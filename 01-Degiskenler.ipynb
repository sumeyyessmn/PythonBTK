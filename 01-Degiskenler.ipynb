{
 "cells": [
  {
   "cell_type": "markdown",
   "id": "a4acebad",
   "metadata": {},
   "source": [
    "# Variables(Degiskenler)"
   ]
  },
  {
   "cell_type": "code",
   "execution_count": 3,
   "id": "65a125af",
   "metadata": {},
   "outputs": [],
   "source": [
    "x = 5"
   ]
  },
  {
   "cell_type": "code",
   "execution_count": 4,
   "id": "7759b477",
   "metadata": {},
   "outputs": [],
   "source": [
    "y = 4"
   ]
  },
  {
   "cell_type": "code",
   "execution_count": 5,
   "id": "890aa775",
   "metadata": {},
   "outputs": [
    {
     "name": "stdout",
     "output_type": "stream",
     "text": [
      "20\n"
     ]
    }
   ],
   "source": [
    "print(x*y)"
   ]
  },
  {
   "cell_type": "markdown",
   "id": "4f97c599",
   "metadata": {},
   "source": [
    "## Integer & Float"
   ]
  },
  {
   "cell_type": "code",
   "execution_count": 9,
   "id": "bcda6235",
   "metadata": {},
   "outputs": [],
   "source": [
    "benimDegiskenim = 10\n",
    "benimDigerDegiskenim = 20 "
   ]
  },
  {
   "cell_type": "code",
   "execution_count": 10,
   "id": "03bfbf82",
   "metadata": {},
   "outputs": [
    {
     "data": {
      "text/plain": [
       "30"
      ]
     },
     "execution_count": 10,
     "metadata": {},
     "output_type": "execute_result"
    }
   ],
   "source": [
    "benimDegiskenim + benimDigerDegiskenim"
   ]
  },
  {
   "cell_type": "code",
   "execution_count": 11,
   "id": "61effd83",
   "metadata": {},
   "outputs": [
    {
     "data": {
      "text/plain": [
       "int"
      ]
     },
     "execution_count": 11,
     "metadata": {},
     "output_type": "execute_result"
    }
   ],
   "source": [
    "type(benimDegiskenim)\n"
   ]
  },
  {
   "cell_type": "code",
   "execution_count": 12,
   "id": "f2c5b3ff",
   "metadata": {},
   "outputs": [],
   "source": [
    "sonuc = benimDigerDegiskenim / benimDegiskenim"
   ]
  },
  {
   "cell_type": "code",
   "execution_count": 13,
   "id": "1a712f1d",
   "metadata": {},
   "outputs": [
    {
     "data": {
      "text/plain": [
       "2.0"
      ]
     },
     "execution_count": 13,
     "metadata": {},
     "output_type": "execute_result"
    }
   ],
   "source": [
    "sonuc"
   ]
  },
  {
   "cell_type": "code",
   "execution_count": 15,
   "id": "0339ce53",
   "metadata": {},
   "outputs": [
    {
     "data": {
      "text/plain": [
       "float"
      ]
     },
     "execution_count": 15,
     "metadata": {},
     "output_type": "execute_result"
    }
   ],
   "source": [
    "type(sonuc)"
   ]
  },
  {
   "cell_type": "markdown",
   "id": "c7882570",
   "metadata": {},
   "source": [
    "## Matematiksel İşlemler"
   ]
  },
  {
   "cell_type": "code",
   "execution_count": 20,
   "id": "2d708ace",
   "metadata": {},
   "outputs": [],
   "source": [
    "x = 5"
   ]
  },
  {
   "cell_type": "code",
   "execution_count": 21,
   "id": "e4549e02",
   "metadata": {},
   "outputs": [],
   "source": [
    "y = 3"
   ]
  },
  {
   "cell_type": "code",
   "execution_count": 23,
   "id": "ec9cd0e4",
   "metadata": {},
   "outputs": [
    {
     "data": {
      "text/plain": [
       "150"
      ]
     },
     "execution_count": 23,
     "metadata": {},
     "output_type": "execute_result"
    }
   ],
   "source": [
    "x * y * 10"
   ]
  },
  {
   "cell_type": "code",
   "execution_count": 24,
   "id": "45f4fa22",
   "metadata": {},
   "outputs": [
    {
     "data": {
      "text/plain": [
       "625"
      ]
     },
     "execution_count": 24,
     "metadata": {},
     "output_type": "execute_result"
    }
   ],
   "source": [
    "x * x * x * x"
   ]
  },
  {
   "cell_type": "code",
   "execution_count": 25,
   "id": "5d6bdd25",
   "metadata": {},
   "outputs": [
    {
     "data": {
      "text/plain": [
       "625"
      ]
     },
     "execution_count": 25,
     "metadata": {},
     "output_type": "execute_result"
    }
   ],
   "source": [
    "x ** 4"
   ]
  },
  {
   "cell_type": "code",
   "execution_count": 26,
   "id": "743c01ae",
   "metadata": {},
   "outputs": [
    {
     "data": {
      "text/plain": [
       "0"
      ]
     },
     "execution_count": 26,
     "metadata": {},
     "output_type": "execute_result"
    }
   ],
   "source": [
    "# Remainder - Kalanını bulmak\n",
    "10 % 2"
   ]
  },
  {
   "cell_type": "code",
   "execution_count": 28,
   "id": "2d8dd3ed",
   "metadata": {},
   "outputs": [
    {
     "name": "stdout",
     "output_type": "stream",
     "text": [
      "Yaşınızı Giriniz: 25\n"
     ]
    }
   ],
   "source": [
    "kullanicininYasi = input('Yaşınızı Giriniz: ')"
   ]
  },
  {
   "cell_type": "code",
   "execution_count": 29,
   "id": "cca9778d",
   "metadata": {},
   "outputs": [
    {
     "data": {
      "text/plain": [
       "'25'"
      ]
     },
     "execution_count": 29,
     "metadata": {},
     "output_type": "execute_result"
    }
   ],
   "source": [
    "kullanicininYasi\n"
   ]
  },
  {
   "cell_type": "code",
   "execution_count": 30,
   "id": "898f8c54",
   "metadata": {},
   "outputs": [
    {
     "data": {
      "text/plain": [
       "str"
      ]
     },
     "execution_count": 30,
     "metadata": {},
     "output_type": "execute_result"
    }
   ],
   "source": [
    "type(kullanicininYasi)"
   ]
  },
  {
   "cell_type": "markdown",
   "id": "1aa00bc9",
   "metadata": {},
   "source": [
    "## string"
   ]
  },
  {
   "cell_type": "code",
   "execution_count": 32,
   "id": "5b0a648b",
   "metadata": {},
   "outputs": [],
   "source": [
    "x = \"Merhaba Dünya\""
   ]
  },
  {
   "cell_type": "code",
   "execution_count": 33,
   "id": "4d2a63ae",
   "metadata": {},
   "outputs": [
    {
     "data": {
      "text/plain": [
       "'Merhaba Dünya'"
      ]
     },
     "execution_count": 33,
     "metadata": {},
     "output_type": "execute_result"
    }
   ],
   "source": [
    "x"
   ]
  },
  {
   "cell_type": "code",
   "execution_count": 34,
   "id": "7cacb485",
   "metadata": {},
   "outputs": [
    {
     "data": {
      "text/plain": [
       "str"
      ]
     },
     "execution_count": 34,
     "metadata": {},
     "output_type": "execute_result"
    }
   ],
   "source": [
    "type(x)"
   ]
  },
  {
   "cell_type": "code",
   "execution_count": 36,
   "id": "5564125c",
   "metadata": {},
   "outputs": [],
   "source": [
    "y = 'yeni string'"
   ]
  },
  {
   "cell_type": "code",
   "execution_count": 37,
   "id": "f7a24de7",
   "metadata": {},
   "outputs": [
    {
     "data": {
      "text/plain": [
       "'Yeni string'"
      ]
     },
     "execution_count": 37,
     "metadata": {},
     "output_type": "execute_result"
    }
   ],
   "source": [
    "y.capitalize()"
   ]
  },
  {
   "cell_type": "code",
   "execution_count": 38,
   "id": "0059f2fd",
   "metadata": {},
   "outputs": [
    {
     "data": {
      "text/plain": [
       "['yeni', 'string']"
      ]
     },
     "execution_count": 38,
     "metadata": {},
     "output_type": "execute_result"
    }
   ],
   "source": [
    "y.split()"
   ]
  },
  {
   "cell_type": "code",
   "execution_count": 39,
   "id": "d0e4cb30",
   "metadata": {},
   "outputs": [
    {
     "data": {
      "text/plain": [
       "'yeni stringyeni stringyeni stringyeni string'"
      ]
     },
     "execution_count": 39,
     "metadata": {},
     "output_type": "execute_result"
    }
   ],
   "source": [
    "y*4"
   ]
  },
  {
   "cell_type": "code",
   "execution_count": 40,
   "id": "5f5d0068",
   "metadata": {},
   "outputs": [
    {
     "name": "stdout",
     "output_type": "stream",
     "text": [
      "Yaşınızı giriniz: 24\n"
     ]
    }
   ],
   "source": [
    "benimInput = input(\"Yaşınızı giriniz: \")"
   ]
  },
  {
   "cell_type": "code",
   "execution_count": 41,
   "id": "d3f49f42",
   "metadata": {},
   "outputs": [
    {
     "data": {
      "text/plain": [
       "str"
      ]
     },
     "execution_count": 41,
     "metadata": {},
     "output_type": "execute_result"
    }
   ],
   "source": [
    "type(benimInput)"
   ]
  },
  {
   "cell_type": "code",
   "execution_count": 42,
   "id": "5dad42be",
   "metadata": {},
   "outputs": [],
   "source": [
    "benimIntInput = int(benimInput)"
   ]
  },
  {
   "cell_type": "code",
   "execution_count": 43,
   "id": "391ddac1",
   "metadata": {},
   "outputs": [
    {
     "data": {
      "text/plain": [
       "'24'"
      ]
     },
     "execution_count": 43,
     "metadata": {},
     "output_type": "execute_result"
    }
   ],
   "source": [
    "benimInput"
   ]
  },
  {
   "cell_type": "code",
   "execution_count": 44,
   "id": "ab665a0e",
   "metadata": {},
   "outputs": [
    {
     "data": {
      "text/plain": [
       "24"
      ]
     },
     "execution_count": 44,
     "metadata": {},
     "output_type": "execute_result"
    }
   ],
   "source": [
    "benimIntInput"
   ]
  },
  {
   "cell_type": "code",
   "execution_count": 45,
   "id": "db08ce5e",
   "metadata": {},
   "outputs": [
    {
     "data": {
      "text/plain": [
       "12.0"
      ]
     },
     "execution_count": 45,
     "metadata": {},
     "output_type": "execute_result"
    }
   ],
   "source": [
    "benimIntInput/4*2"
   ]
  },
  {
   "cell_type": "code",
   "execution_count": 46,
   "id": "457631f5",
   "metadata": {},
   "outputs": [],
   "source": [
    "k = \"Şişman\""
   ]
  },
  {
   "cell_type": "code",
   "execution_count": 47,
   "id": "8b461fee",
   "metadata": {},
   "outputs": [
    {
     "data": {
      "text/plain": [
       "6"
      ]
     },
     "execution_count": 47,
     "metadata": {},
     "output_type": "execute_result"
    }
   ],
   "source": [
    "len(k)"
   ]
  },
  {
   "cell_type": "code",
   "execution_count": 49,
   "id": "800c220c",
   "metadata": {},
   "outputs": [
    {
     "name": "stdout",
     "output_type": "stream",
     "text": [
      "Merhaba \n",
      "Python\n"
     ]
    }
   ],
   "source": [
    "print(\"Merhaba \\nPython\") #newline"
   ]
  },
  {
   "cell_type": "code",
   "execution_count": 50,
   "id": "bc090bec",
   "metadata": {},
   "outputs": [],
   "source": [
    "isimString = \"Sumeyye Sisman\""
   ]
  },
  {
   "cell_type": "code",
   "execution_count": 51,
   "id": "49579e7a",
   "metadata": {},
   "outputs": [
    {
     "data": {
      "text/plain": [
       "'Sumeyye Sisman'"
      ]
     },
     "execution_count": 51,
     "metadata": {},
     "output_type": "execute_result"
    }
   ],
   "source": [
    "isimString"
   ]
  },
  {
   "cell_type": "markdown",
   "id": "8146b541",
   "metadata": {},
   "source": [
    "## Index"
   ]
  },
  {
   "cell_type": "code",
   "execution_count": 53,
   "id": "e1f83735",
   "metadata": {},
   "outputs": [
    {
     "data": {
      "text/plain": [
       "'S'"
      ]
     },
     "execution_count": 53,
     "metadata": {},
     "output_type": "execute_result"
    }
   ],
   "source": [
    "isimString[0]"
   ]
  },
  {
   "cell_type": "code",
   "execution_count": 54,
   "id": "e4bbef7d",
   "metadata": {},
   "outputs": [
    {
     "data": {
      "text/plain": [
       "'S'"
      ]
     },
     "execution_count": 54,
     "metadata": {},
     "output_type": "execute_result"
    }
   ],
   "source": [
    "isimString[8]"
   ]
  },
  {
   "cell_type": "code",
   "execution_count": 55,
   "id": "50095ce2",
   "metadata": {},
   "outputs": [
    {
     "data": {
      "text/plain": [
       "'n'"
      ]
     },
     "execution_count": 55,
     "metadata": {},
     "output_type": "execute_result"
    }
   ],
   "source": [
    "isimString[13]"
   ]
  },
  {
   "cell_type": "code",
   "execution_count": 56,
   "id": "1a08cfef",
   "metadata": {},
   "outputs": [
    {
     "data": {
      "text/plain": [
       "'n'"
      ]
     },
     "execution_count": 56,
     "metadata": {},
     "output_type": "execute_result"
    }
   ],
   "source": [
    "isimString[-1]"
   ]
  },
  {
   "cell_type": "code",
   "execution_count": 57,
   "id": "84d5f36d",
   "metadata": {},
   "outputs": [
    {
     "data": {
      "text/plain": [
       "'Sn'"
      ]
     },
     "execution_count": 57,
     "metadata": {},
     "output_type": "execute_result"
    }
   ],
   "source": [
    "isimString[0]+isimString[-1]"
   ]
  },
  {
   "cell_type": "code",
   "execution_count": 58,
   "id": "38f1d3cf",
   "metadata": {},
   "outputs": [],
   "source": [
    "yeniString = \"0123456789\""
   ]
  },
  {
   "cell_type": "code",
   "execution_count": 59,
   "id": "307dbda0",
   "metadata": {},
   "outputs": [
    {
     "data": {
      "text/plain": [
       "'23456789'"
      ]
     },
     "execution_count": 59,
     "metadata": {},
     "output_type": "execute_result"
    }
   ],
   "source": [
    "yeniString[2:] ##ilk 2 karakteri almadı"
   ]
  },
  {
   "cell_type": "code",
   "execution_count": 60,
   "id": "75863e12",
   "metadata": {},
   "outputs": [
    {
     "data": {
      "text/plain": [
       "'01'"
      ]
     },
     "execution_count": 60,
     "metadata": {},
     "output_type": "execute_result"
    }
   ],
   "source": [
    "yeniString[:2] ##ilk iki karakteri getirdi"
   ]
  },
  {
   "cell_type": "markdown",
   "id": "98714586",
   "metadata": {},
   "source": [
    "## Slicing "
   ]
  },
  {
   "cell_type": "code",
   "execution_count": 61,
   "id": "3084d977",
   "metadata": {},
   "outputs": [],
   "source": [
    "## slice kesmek demek, stringleri istediğimiz yerden kesebiliriz."
   ]
  },
  {
   "cell_type": "code",
   "execution_count": 62,
   "id": "525acf66",
   "metadata": {},
   "outputs": [],
   "source": [
    "gelenVeri = \"AhmetinYasi65\""
   ]
  },
  {
   "cell_type": "code",
   "execution_count": 63,
   "id": "cbd6c810",
   "metadata": {},
   "outputs": [
    {
     "data": {
      "text/plain": [
       "'65'"
      ]
     },
     "execution_count": 63,
     "metadata": {},
     "output_type": "execute_result"
    }
   ],
   "source": [
    "gelenVeri[-2:]"
   ]
  },
  {
   "cell_type": "code",
   "execution_count": 64,
   "id": "2cf00b86",
   "metadata": {},
   "outputs": [
    {
     "data": {
      "text/plain": [
       "'me'"
      ]
     },
     "execution_count": 64,
     "metadata": {},
     "output_type": "execute_result"
    }
   ],
   "source": [
    "gelenVeri[2:4] ## 2 başlangıç indexi , 4 durdurma indexi"
   ]
  },
  {
   "cell_type": "code",
   "execution_count": 65,
   "id": "8dfa836d",
   "metadata": {},
   "outputs": [],
   "source": [
    "# step size"
   ]
  },
  {
   "cell_type": "code",
   "execution_count": 67,
   "id": "d6d29957",
   "metadata": {},
   "outputs": [
    {
     "data": {
      "text/plain": [
       "'htY'"
      ]
     },
     "execution_count": 67,
     "metadata": {},
     "output_type": "execute_result"
    }
   ],
   "source": [
    "gelenVeri[1:10:3]"
   ]
  },
  {
   "cell_type": "code",
   "execution_count": 68,
   "id": "e835adf8",
   "metadata": {},
   "outputs": [
    {
     "data": {
      "text/plain": [
       "'56isaYnitemhA'"
      ]
     },
     "execution_count": 68,
     "metadata": {},
     "output_type": "execute_result"
    }
   ],
   "source": [
    "gelenVeri[::-1]"
   ]
  },
  {
   "cell_type": "code",
   "execution_count": 70,
   "id": "2b28ba45",
   "metadata": {},
   "outputs": [],
   "source": [
    "benimIsmim = \"sumeyye\""
   ]
  },
  {
   "cell_type": "code",
   "execution_count": 71,
   "id": "c6c64787",
   "metadata": {},
   "outputs": [
    {
     "data": {
      "text/plain": [
       "'Sumeyye'"
      ]
     },
     "execution_count": 71,
     "metadata": {},
     "output_type": "execute_result"
    }
   ],
   "source": [
    "benimIsmim.capitalize()"
   ]
  },
  {
   "cell_type": "code",
   "execution_count": 74,
   "id": "6cf035ad",
   "metadata": {},
   "outputs": [
    {
     "data": {
      "text/plain": [
       "'sumeyye'"
      ]
     },
     "execution_count": 74,
     "metadata": {},
     "output_type": "execute_result"
    }
   ],
   "source": [
    "benimIsmim"
   ]
  },
  {
   "cell_type": "code",
   "execution_count": 75,
   "id": "c48dea3d",
   "metadata": {},
   "outputs": [],
   "source": [
    "benimYeniIsmim = benimIsmim.capitalize()"
   ]
  },
  {
   "cell_type": "code",
   "execution_count": 76,
   "id": "8414850d",
   "metadata": {},
   "outputs": [
    {
     "data": {
      "text/plain": [
       "'Sumeyye'"
      ]
     },
     "execution_count": 76,
     "metadata": {},
     "output_type": "execute_result"
    }
   ],
   "source": [
    "benimYeniIsmim"
   ]
  },
  {
   "cell_type": "code",
   "execution_count": 77,
   "id": "12c195c4",
   "metadata": {},
   "outputs": [],
   "source": [
    "benimTamIsmim = \"Sumeyye Sisman\""
   ]
  },
  {
   "cell_type": "code",
   "execution_count": 80,
   "id": "5e314ab6",
   "metadata": {},
   "outputs": [],
   "source": [
    "listeler = benimTamIsmim.split() #split ayırmak demek"
   ]
  },
  {
   "cell_type": "code",
   "execution_count": 81,
   "id": "f9f3499b",
   "metadata": {},
   "outputs": [
    {
     "data": {
      "text/plain": [
       "'Sumeyye'"
      ]
     },
     "execution_count": 81,
     "metadata": {},
     "output_type": "execute_result"
    }
   ],
   "source": [
    "listeler[0]"
   ]
  },
  {
   "cell_type": "code",
   "execution_count": 82,
   "id": "f5f1ad40",
   "metadata": {},
   "outputs": [
    {
     "data": {
      "text/plain": [
       "'SUMEYYE SISMAN'"
      ]
     },
     "execution_count": 82,
     "metadata": {},
     "output_type": "execute_result"
    }
   ],
   "source": [
    "benimTamIsmim.upper()"
   ]
  },
  {
   "cell_type": "code",
   "execution_count": 83,
   "id": "2e3663ba",
   "metadata": {},
   "outputs": [],
   "source": [
    "benimSoyismim = \"Sisman\""
   ]
  },
  {
   "cell_type": "code",
   "execution_count": 85,
   "id": "c58cd679",
   "metadata": {},
   "outputs": [
    {
     "data": {
      "text/plain": [
       "'SumeyyeSisman'"
      ]
     },
     "execution_count": 85,
     "metadata": {},
     "output_type": "execute_result"
    }
   ],
   "source": [
    "benimYeniIsmim + benimSoyismim"
   ]
  },
  {
   "cell_type": "code",
   "execution_count": 86,
   "id": "7271a2b5",
   "metadata": {},
   "outputs": [
    {
     "data": {
      "text/plain": [
       "'Sumeyye Sisman'"
      ]
     },
     "execution_count": 86,
     "metadata": {},
     "output_type": "execute_result"
    }
   ],
   "source": [
    "benimYeniIsmim + \" \"+benimSoyismim"
   ]
  },
  {
   "cell_type": "code",
   "execution_count": null,
   "id": "710ad97e",
   "metadata": {},
   "outputs": [],
   "source": []
  }
 ],
 "metadata": {
  "kernelspec": {
   "display_name": "Python 3 (ipykernel)",
   "language": "python",
   "name": "python3"
  },
  "language_info": {
   "codemirror_mode": {
    "name": "ipython",
    "version": 3
   },
   "file_extension": ".py",
   "mimetype": "text/x-python",
   "name": "python",
   "nbconvert_exporter": "python",
   "pygments_lexer": "ipython3",
   "version": "3.11.4"
  }
 },
 "nbformat": 4,
 "nbformat_minor": 5
}
