{
 "cells": [
  {
   "cell_type": "markdown",
   "id": "0c864477",
   "metadata": {},
   "source": [
    "## instance && attribute"
   ]
  },
  {
   "cell_type": "code",
   "execution_count": 1,
   "id": "8b48af2d",
   "metadata": {},
   "outputs": [],
   "source": [
    "## instance örnek veya nesne anlamına geliyor. Bir sınıftan bir obje oluşturduğumuzda buna o sınıfın örneği, o sınıfın nesnesi\n",
    "## diyebiliriz."
   ]
  },
  {
   "cell_type": "code",
   "execution_count": 33,
   "id": "ff4bb299",
   "metadata": {},
   "outputs": [],
   "source": [
    "class SuperKahraman():\n",
    "    ozelGuc = \"Gorunmezlik\"\n",
    "    def __init__(self,isim,yas,meslek):\n",
    "        print(\"init çağrıldı\")    \n",
    "        #self.isim = isimInput\n",
    "        self.isim = isim\n",
    "        self.yas = yas\n",
    "        self.meslek = meslek\n",
    "    \n",
    "    def ornekMethod(self):\n",
    "        print(f\"Ben bir superkahramanım ve meslegim {self.meslek}\")"
   ]
  },
  {
   "cell_type": "code",
   "execution_count": 34,
   "id": "664f2cad",
   "metadata": {},
   "outputs": [
    {
     "name": "stdout",
     "output_type": "stream",
     "text": [
      "init çağrıldı\n"
     ]
    }
   ],
   "source": [
    "superman = SuperKahraman(\"Superman\",30,\"Gazeteci\")"
   ]
  },
  {
   "cell_type": "code",
   "execution_count": 35,
   "id": "075c786b",
   "metadata": {},
   "outputs": [],
   "source": [
    "superman.isim = \"Klark Kent\""
   ]
  },
  {
   "cell_type": "code",
   "execution_count": 36,
   "id": "05573b6c",
   "metadata": {},
   "outputs": [
    {
     "data": {
      "text/plain": [
       "'Klark Kent'"
      ]
     },
     "execution_count": 36,
     "metadata": {},
     "output_type": "execute_result"
    }
   ],
   "source": [
    "superman.isim"
   ]
  },
  {
   "cell_type": "code",
   "execution_count": 37,
   "id": "58faa082",
   "metadata": {},
   "outputs": [
    {
     "data": {
      "text/plain": [
       "'Gorunmezlik'"
      ]
     },
     "execution_count": 37,
     "metadata": {},
     "output_type": "execute_result"
    }
   ],
   "source": [
    "superman.ozelGuc"
   ]
  },
  {
   "cell_type": "code",
   "execution_count": 38,
   "id": "dc3735be",
   "metadata": {},
   "outputs": [],
   "source": [
    "superman.ozelGuc = \"Uçmak\""
   ]
  },
  {
   "cell_type": "code",
   "execution_count": 39,
   "id": "bd292e2c",
   "metadata": {},
   "outputs": [
    {
     "data": {
      "text/plain": [
       "'Uçmak'"
      ]
     },
     "execution_count": 39,
     "metadata": {},
     "output_type": "execute_result"
    }
   ],
   "source": [
    "superman.ozelGuc"
   ]
  },
  {
   "cell_type": "code",
   "execution_count": 40,
   "id": "13af696e",
   "metadata": {},
   "outputs": [
    {
     "name": "stdout",
     "output_type": "stream",
     "text": [
      "Ben bir superkahramanım ve meslegim Gazeteci\n"
     ]
    }
   ],
   "source": [
    "superman.ornekMethod()"
   ]
  },
  {
   "cell_type": "code",
   "execution_count": 77,
   "id": "1c1c461c",
   "metadata": {},
   "outputs": [],
   "source": [
    "class Kopek():\n",
    "    yilCarpani = 7\n",
    "    def __init__(self,yas=5):\n",
    "        self.yas = yas\n",
    "        self.insanYasinaCevrilmisAttribute = yas *7\n",
    "    \n",
    "    def insanYasiniHesapla(self):\n",
    "        return self.yas * self.yilCarpani"
   ]
  },
  {
   "cell_type": "code",
   "execution_count": 78,
   "id": "49fbfe4f",
   "metadata": {},
   "outputs": [],
   "source": [
    "benimKopek = Kopek()"
   ]
  },
  {
   "cell_type": "code",
   "execution_count": 79,
   "id": "684dd8b6",
   "metadata": {},
   "outputs": [
    {
     "data": {
      "text/plain": [
       "5"
      ]
     },
     "execution_count": 79,
     "metadata": {},
     "output_type": "execute_result"
    }
   ],
   "source": [
    "benimKopek.yas"
   ]
  },
  {
   "cell_type": "code",
   "execution_count": 70,
   "id": "57417606",
   "metadata": {},
   "outputs": [],
   "source": [
    "## benim çözümüm\n",
    "##class Insan():\n",
    "    ##def __init__(self,yas):\n",
    "        ##self.yas = Kopek().yas*7\n",
    "        "
   ]
  },
  {
   "cell_type": "code",
   "execution_count": 71,
   "id": "87183bca",
   "metadata": {},
   "outputs": [],
   "source": [
    "kopekYas = Kopek() "
   ]
  },
  {
   "cell_type": "code",
   "execution_count": 72,
   "id": "19b9eae6",
   "metadata": {},
   "outputs": [
    {
     "data": {
      "text/plain": [
       "5"
      ]
     },
     "execution_count": 72,
     "metadata": {},
     "output_type": "execute_result"
    }
   ],
   "source": [
    "kopekYas.yas"
   ]
  },
  {
   "cell_type": "code",
   "execution_count": 65,
   "id": "819a7302",
   "metadata": {},
   "outputs": [],
   "source": [
    "##insanYas = Insan(7)"
   ]
  },
  {
   "cell_type": "code",
   "execution_count": 66,
   "id": "f00eb078",
   "metadata": {},
   "outputs": [
    {
     "data": {
      "text/plain": [
       "35"
      ]
     },
     "execution_count": 66,
     "metadata": {},
     "output_type": "execute_result"
    }
   ],
   "source": [
    "##insanYas.yas"
   ]
  },
  {
   "cell_type": "code",
   "execution_count": 80,
   "id": "4d1ef48f",
   "metadata": {},
   "outputs": [
    {
     "data": {
      "text/plain": [
       "35"
      ]
     },
     "execution_count": 80,
     "metadata": {},
     "output_type": "execute_result"
    }
   ],
   "source": [
    "benimKopek.insanYasiniHesapla()"
   ]
  },
  {
   "cell_type": "code",
   "execution_count": 81,
   "id": "0161e5ad",
   "metadata": {},
   "outputs": [
    {
     "data": {
      "text/plain": [
       "35"
      ]
     },
     "execution_count": 81,
     "metadata": {},
     "output_type": "execute_result"
    }
   ],
   "source": [
    "benimKopek.insanYasinaCevrilmisAttribute"
   ]
  },
  {
   "cell_type": "markdown",
   "id": "2569b875",
   "metadata": {},
   "source": [
    "## inheritance "
   ]
  },
  {
   "cell_type": "code",
   "execution_count": 82,
   "id": "9de9537b",
   "metadata": {},
   "outputs": [],
   "source": [
    "## Bir sınıfın özelliklerini miras almak"
   ]
  },
  {
   "cell_type": "code",
   "execution_count": 83,
   "id": "0a65e7dc",
   "metadata": {},
   "outputs": [],
   "source": [
    "class Hayvan():\n",
    "    def __init__(self):\n",
    "        print(\"hayvan sınıfı init çağrıldı\")\n",
    "    \n",
    "    def method1(self):\n",
    "        print(\"hayvan sınıfı method1 çağrıldı\")\n",
    "        \n",
    "    def method2(self):\n",
    "        print(\"hayvan sınıfı method2 çağrıldı\")"
   ]
  },
  {
   "cell_type": "code",
   "execution_count": 84,
   "id": "67f17fc1",
   "metadata": {},
   "outputs": [
    {
     "name": "stdout",
     "output_type": "stream",
     "text": [
      "hayvan sınıfı init çağrıldı\n"
     ]
    }
   ],
   "source": [
    "benimHayvanim = Hayvan()"
   ]
  },
  {
   "cell_type": "code",
   "execution_count": 85,
   "id": "61c00263",
   "metadata": {},
   "outputs": [
    {
     "name": "stdout",
     "output_type": "stream",
     "text": [
      "hayvan sınıfı method1 çağrıldı\n"
     ]
    }
   ],
   "source": [
    "benimHayvanim.method1()"
   ]
  },
  {
   "cell_type": "code",
   "execution_count": 86,
   "id": "18a73b46",
   "metadata": {},
   "outputs": [
    {
     "name": "stdout",
     "output_type": "stream",
     "text": [
      "hayvan sınıfı method2 çağrıldı\n"
     ]
    }
   ],
   "source": [
    "benimHayvanim.method2()"
   ]
  },
  {
   "cell_type": "code",
   "execution_count": 101,
   "id": "1a73180d",
   "metadata": {},
   "outputs": [],
   "source": [
    "class Kedi(Hayvan):\n",
    "    def __init__(self):\n",
    "        Hayvan.__init__(self)\n",
    "        print(\"Kedi sınıfı init çağrıldı\")\n",
    "        \n",
    "    def miyavla(self):\n",
    "        print(\"miyav\")\n",
    "        \n",
    "    #override : üstüne yazmak\n",
    "    def method1(self):\n",
    "        print(\"kedi sınıfındaki method1 çağrıldı\")"
   ]
  },
  {
   "cell_type": "markdown",
   "id": "1a906955",
   "metadata": {},
   "source": [
    "benimKedi = Kedi()"
   ]
  },
  {
   "cell_type": "code",
   "execution_count": 96,
   "id": "f13c0493",
   "metadata": {},
   "outputs": [
    {
     "name": "stdout",
     "output_type": "stream",
     "text": [
      "kedi sınıfındaki method1 çağrıldı\n"
     ]
    }
   ],
   "source": [
    "benimKedi.method1()"
   ]
  },
  {
   "cell_type": "code",
   "execution_count": 93,
   "id": "bc35c4c2",
   "metadata": {},
   "outputs": [
    {
     "name": "stdout",
     "output_type": "stream",
     "text": [
      "miyav\n"
     ]
    }
   ],
   "source": [
    "benimKedi.miyavla()"
   ]
  },
  {
   "cell_type": "code",
   "execution_count": 97,
   "id": "b522ffaa",
   "metadata": {},
   "outputs": [
    {
     "name": "stdout",
     "output_type": "stream",
     "text": [
      "hayvan sınıfı init çağrıldı\n"
     ]
    }
   ],
   "source": [
    "digerHayvan = Hayvan()"
   ]
  },
  {
   "cell_type": "code",
   "execution_count": 98,
   "id": "3aa52405",
   "metadata": {},
   "outputs": [
    {
     "name": "stdout",
     "output_type": "stream",
     "text": [
      "hayvan sınıfı method1 çağrıldı\n"
     ]
    }
   ],
   "source": [
    "digerHayvan.method1()"
   ]
  },
  {
   "cell_type": "code",
   "execution_count": 99,
   "id": "807f3598",
   "metadata": {},
   "outputs": [
    {
     "name": "stdout",
     "output_type": "stream",
     "text": [
      "hayvan sınıfı init çağrıldı\n",
      "Kedi sınıfı init çağrıldı\n"
     ]
    }
   ],
   "source": [
    "digerKedi = Kedi()"
   ]
  },
  {
   "cell_type": "code",
   "execution_count": 100,
   "id": "bc2ee9fe",
   "metadata": {},
   "outputs": [
    {
     "name": "stdout",
     "output_type": "stream",
     "text": [
      "kedi sınıfındaki method1 çağrıldı\n"
     ]
    }
   ],
   "source": [
    "digerKedi.method1()"
   ]
  },
  {
   "cell_type": "markdown",
   "id": "78df0d6c",
   "metadata": {},
   "source": [
    "## Polimorphism"
   ]
  },
  {
   "cell_type": "code",
   "execution_count": 102,
   "id": "de4856b1",
   "metadata": {},
   "outputs": [],
   "source": [
    "## Aynı isimde methodların veya fonksiyonların farklı amaca hizmet edebilmesine denir. "
   ]
  },
  {
   "cell_type": "code",
   "execution_count": 117,
   "id": "9f6e02c6",
   "metadata": {},
   "outputs": [],
   "source": [
    "class Elma():\n",
    "    def __init__(self,isim):\n",
    "        self.isim =isim\n",
    "        \n",
    "    def bilgiVer(self):\n",
    "        return self.isim + \" 100 kaloridir.\""
   ]
  },
  {
   "cell_type": "code",
   "execution_count": 118,
   "id": "8564aa19",
   "metadata": {},
   "outputs": [],
   "source": [
    "class Muz():\n",
    "    def __init__(self,isim):\n",
    "        self.isim =isim\n",
    "        \n",
    "    def bilgiVer(self):\n",
    "        return self.isim + \" 150 kaloridir.\""
   ]
  },
  {
   "cell_type": "code",
   "execution_count": 119,
   "id": "cd262c19",
   "metadata": {},
   "outputs": [],
   "source": [
    "elma = Elma(\"elma\")"
   ]
  },
  {
   "cell_type": "code",
   "execution_count": 120,
   "id": "c6006de3",
   "metadata": {},
   "outputs": [
    {
     "data": {
      "text/plain": [
       "'elma 100 kaloridir.'"
      ]
     },
     "execution_count": 120,
     "metadata": {},
     "output_type": "execute_result"
    }
   ],
   "source": [
    "elma.bilgiVer()"
   ]
  },
  {
   "cell_type": "code",
   "execution_count": 121,
   "id": "1aa91bbe",
   "metadata": {},
   "outputs": [],
   "source": [
    "muz = Muz(\"muz\")"
   ]
  },
  {
   "cell_type": "code",
   "execution_count": 122,
   "id": "a136983d",
   "metadata": {},
   "outputs": [
    {
     "data": {
      "text/plain": [
       "'muz 150 kaloridir.'"
      ]
     },
     "execution_count": 122,
     "metadata": {},
     "output_type": "execute_result"
    }
   ],
   "source": [
    "muz.bilgiVer()"
   ]
  },
  {
   "cell_type": "code",
   "execution_count": 123,
   "id": "82b0c3ba",
   "metadata": {},
   "outputs": [],
   "source": [
    "meyveListesi = [elma,muz]"
   ]
  },
  {
   "cell_type": "code",
   "execution_count": 124,
   "id": "69898aa0",
   "metadata": {},
   "outputs": [
    {
     "name": "stdout",
     "output_type": "stream",
     "text": [
      "elma 100 kaloridir.\n",
      "muz 150 kaloridir.\n"
     ]
    }
   ],
   "source": [
    "for meyve in meyveListesi:\n",
    "    print(meyve.bilgiVer())"
   ]
  },
  {
   "cell_type": "code",
   "execution_count": 125,
   "id": "df0c33c0",
   "metadata": {},
   "outputs": [],
   "source": [
    "def bilgiAl(meyve):\n",
    "    print(meyve.bilgiVer())"
   ]
  },
  {
   "cell_type": "code",
   "execution_count": 116,
   "id": "bb6459ea",
   "metadata": {},
   "outputs": [
    {
     "name": "stdout",
     "output_type": "stream",
     "text": [
      "muz 150 kaloridir.\n"
     ]
    }
   ],
   "source": [
    "bilgiAl(muz)"
   ]
  },
  {
   "cell_type": "code",
   "execution_count": 126,
   "id": "19549dcc",
   "metadata": {},
   "outputs": [
    {
     "name": "stdout",
     "output_type": "stream",
     "text": [
      "elma 100 kaloridir.\n"
     ]
    }
   ],
   "source": [
    "bilgiAl(elma)"
   ]
  },
  {
   "cell_type": "code",
   "execution_count": null,
   "id": "b38ca348",
   "metadata": {},
   "outputs": [],
   "source": []
  }
 ],
 "metadata": {
  "kernelspec": {
   "display_name": "Python 3 (ipykernel)",
   "language": "python",
   "name": "python3"
  },
  "language_info": {
   "codemirror_mode": {
    "name": "ipython",
    "version": 3
   },
   "file_extension": ".py",
   "mimetype": "text/x-python",
   "name": "python",
   "nbconvert_exporter": "python",
   "pygments_lexer": "ipython3",
   "version": "3.11.4"
  }
 },
 "nbformat": 4,
 "nbformat_minor": 5
}
