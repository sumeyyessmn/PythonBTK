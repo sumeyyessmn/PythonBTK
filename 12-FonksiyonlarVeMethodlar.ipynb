{
 "cells": [
  {
   "cell_type": "code",
   "execution_count": 1,
   "id": "25f918d7",
   "metadata": {},
   "outputs": [],
   "source": [
    "benimAdim = \"Sumeyye Sisman\""
   ]
  },
  {
   "cell_type": "code",
   "execution_count": 2,
   "id": "88104f02",
   "metadata": {},
   "outputs": [
    {
     "name": "stdout",
     "output_type": "stream",
     "text": [
      "Help on built-in function upper:\n",
      "\n",
      "upper() method of builtins.str instance\n",
      "    Return a copy of the string converted to uppercase.\n",
      "\n"
     ]
    }
   ],
   "source": [
    "help(benimAdim.upper)"
   ]
  },
  {
   "cell_type": "code",
   "execution_count": 3,
   "id": "2539958f",
   "metadata": {},
   "outputs": [],
   "source": [
    "##fonksiyon yazmak için def kullanıyoruz. def yani tanımlamak gibi"
   ]
  },
  {
   "cell_type": "code",
   "execution_count": 4,
   "id": "48c18737",
   "metadata": {},
   "outputs": [],
   "source": [
    "def ilkFonksiyon() :\n",
    "    print(\"ilk fonksiyonum\")"
   ]
  },
  {
   "cell_type": "code",
   "execution_count": 6,
   "id": "44dd982f",
   "metadata": {},
   "outputs": [
    {
     "name": "stdout",
     "output_type": "stream",
     "text": [
      "ilk fonksiyonum\n"
     ]
    }
   ],
   "source": [
    "ilkFonksiyon()"
   ]
  },
  {
   "cell_type": "code",
   "execution_count": 9,
   "id": "4cc06306",
   "metadata": {},
   "outputs": [],
   "source": [
    "## fonksiyonlar, kodları düzenli yazmaya yarıyor. Çok daha verimli kod yazmamızı sağlar. Girdi alıp çıktı verebilirler."
   ]
  },
  {
   "cell_type": "markdown",
   "id": "d5b053a1",
   "metadata": {},
   "source": [
    "## input && return"
   ]
  },
  {
   "cell_type": "code",
   "execution_count": 12,
   "id": "2be79501",
   "metadata": {},
   "outputs": [],
   "source": [
    "def merhabaDunya(yazdirilacakIsim):\n",
    "    print(\"Hello world!\")\n",
    "    print(yazdirilacakIsim)"
   ]
  },
  {
   "cell_type": "code",
   "execution_count": 14,
   "id": "2f28d359",
   "metadata": {},
   "outputs": [
    {
     "name": "stdout",
     "output_type": "stream",
     "text": [
      "Hello world!\n",
      "sumeyye\n"
     ]
    }
   ],
   "source": [
    "merhabaDunya(\"sumeyye\")"
   ]
  },
  {
   "cell_type": "code",
   "execution_count": 15,
   "id": "aacd4d4b",
   "metadata": {},
   "outputs": [
    {
     "name": "stdout",
     "output_type": "stream",
     "text": [
      "Hello world!\n",
      "python\n"
     ]
    }
   ],
   "source": [
    "merhabaDunya(\"python\")"
   ]
  },
  {
   "cell_type": "code",
   "execution_count": 18,
   "id": "88c6891f",
   "metadata": {},
   "outputs": [],
   "source": [
    "def merhaba(isim =\"sumeyye\"):\n",
    "    print(\"merhaba\")\n",
    "    print(isim)"
   ]
  },
  {
   "cell_type": "code",
   "execution_count": 19,
   "id": "7231bd59",
   "metadata": {},
   "outputs": [
    {
     "name": "stdout",
     "output_type": "stream",
     "text": [
      "merhaba\n",
      "sumeyye\n"
     ]
    }
   ],
   "source": [
    "merhaba()"
   ]
  },
  {
   "cell_type": "code",
   "execution_count": 20,
   "id": "9c8dccd5",
   "metadata": {},
   "outputs": [
    {
     "name": "stdout",
     "output_type": "stream",
     "text": [
      "merhaba\n",
      "python\n"
     ]
    }
   ],
   "source": [
    "merhaba(\"python\")"
   ]
  },
  {
   "cell_type": "code",
   "execution_count": 21,
   "id": "89ab1820",
   "metadata": {},
   "outputs": [],
   "source": [
    "def toplama(numara1,numara2):\n",
    "    sonuc=numara1+numara2\n",
    "    print(sonuc)"
   ]
  },
  {
   "cell_type": "code",
   "execution_count": 22,
   "id": "9b834fc6",
   "metadata": {},
   "outputs": [
    {
     "name": "stdout",
     "output_type": "stream",
     "text": [
      "30\n"
     ]
    }
   ],
   "source": [
    "toplama(10,20)"
   ]
  },
  {
   "cell_type": "code",
   "execution_count": 23,
   "id": "40b0ccff",
   "metadata": {},
   "outputs": [],
   "source": [
    "def superToplama(num1,num2,num3):\n",
    "    print(num1+num2+num3)"
   ]
  },
  {
   "cell_type": "code",
   "execution_count": 24,
   "id": "5afd15ee",
   "metadata": {},
   "outputs": [
    {
     "name": "stdout",
     "output_type": "stream",
     "text": [
      "60\n"
     ]
    }
   ],
   "source": [
    "superToplama(10,20,30)"
   ]
  },
  {
   "cell_type": "code",
   "execution_count": 25,
   "id": "8a0f9b45",
   "metadata": {},
   "outputs": [
    {
     "name": "stdout",
     "output_type": "stream",
     "text": [
      "30\n"
     ]
    }
   ],
   "source": [
    "yeniDegisken = toplama(10,20)"
   ]
  },
  {
   "cell_type": "code",
   "execution_count": 27,
   "id": "0fc0e520",
   "metadata": {},
   "outputs": [
    {
     "name": "stdout",
     "output_type": "stream",
     "text": [
      "None\n"
     ]
    }
   ],
   "source": [
    "print(yeniDegisken)"
   ]
  },
  {
   "cell_type": "code",
   "execution_count": 2,
   "id": "dcca88b0",
   "metadata": {},
   "outputs": [],
   "source": [
    "def dondurmeliToplama(num1,num2):\n",
    "    return num1+num2"
   ]
  },
  {
   "cell_type": "code",
   "execution_count": 3,
   "id": "28457e3e",
   "metadata": {},
   "outputs": [],
   "source": [
    "yeniSonuc = dondurmeliToplama(10,20)"
   ]
  },
  {
   "cell_type": "code",
   "execution_count": 5,
   "id": "d563adc0",
   "metadata": {},
   "outputs": [
    {
     "data": {
      "text/plain": [
       "30"
      ]
     },
     "execution_count": 5,
     "metadata": {},
     "output_type": "execute_result"
    }
   ],
   "source": [
    "yeniSonuc"
   ]
  },
  {
   "cell_type": "code",
   "execution_count": 32,
   "id": "16a9d64b",
   "metadata": {},
   "outputs": [],
   "source": [
    "def kontrolFonksiyon(s):\n",
    "    if s==\"sumeyye\":\n",
    "        print(\"verdiğiniz string sumeyye\")\n",
    "    else:\n",
    "        print(\"verdiğiniz string başka bir şey\")"
   ]
  },
  {
   "cell_type": "code",
   "execution_count": 33,
   "id": "8fe1faed",
   "metadata": {},
   "outputs": [
    {
     "name": "stdout",
     "output_type": "stream",
     "text": [
      "verdiğiniz string sumeyye\n"
     ]
    }
   ],
   "source": [
    "kontrolFonksiyon(\"sumeyye\")"
   ]
  },
  {
   "cell_type": "code",
   "execution_count": 34,
   "id": "ce3f1898",
   "metadata": {},
   "outputs": [
    {
     "name": "stdout",
     "output_type": "stream",
     "text": [
      "verdiğiniz string başka bir şey\n"
     ]
    }
   ],
   "source": [
    "kontrolFonksiyon(\"python\")"
   ]
  },
  {
   "cell_type": "markdown",
   "id": "b98c0f1f",
   "metadata": {},
   "source": [
    "## args & kwargs"
   ]
  },
  {
   "cell_type": "code",
   "execution_count": 35,
   "id": "05f39f11",
   "metadata": {},
   "outputs": [],
   "source": [
    "## args: argümanlar "
   ]
  },
  {
   "cell_type": "code",
   "execution_count": 36,
   "id": "408fa217",
   "metadata": {},
   "outputs": [],
   "source": [
    "def yeniToplama(*args):\n",
    "    return sum(args)"
   ]
  },
  {
   "cell_type": "code",
   "execution_count": 37,
   "id": "3262c112",
   "metadata": {},
   "outputs": [
    {
     "data": {
      "text/plain": [
       "210"
      ]
     },
     "execution_count": 37,
     "metadata": {},
     "output_type": "execute_result"
    }
   ],
   "source": [
    "yeniToplama(10,20,30,40,50,60)"
   ]
  },
  {
   "cell_type": "code",
   "execution_count": 43,
   "id": "78edfd8b",
   "metadata": {},
   "outputs": [],
   "source": [
    "def benimFonksiyonum(*args):\n",
    "    return args"
   ]
  },
  {
   "cell_type": "code",
   "execution_count": 44,
   "id": "94f30d2d",
   "metadata": {},
   "outputs": [
    {
     "data": {
      "text/plain": [
       "tuple"
      ]
     },
     "execution_count": 44,
     "metadata": {},
     "output_type": "execute_result"
    }
   ],
   "source": [
    "type(benimFonksiyonum(20,30,40))"
   ]
  },
  {
   "cell_type": "code",
   "execution_count": 45,
   "id": "fdbee39d",
   "metadata": {},
   "outputs": [],
   "source": [
    "## kwargs anahtar kelimelerle çalıştığımızda işe yarıyor."
   ]
  },
  {
   "cell_type": "code",
   "execution_count": 46,
   "id": "fbdb07bf",
   "metadata": {},
   "outputs": [],
   "source": [
    "def ornekFonksiyon(**kwargs):\n",
    "    return kwargs"
   ]
  },
  {
   "cell_type": "code",
   "execution_count": 48,
   "id": "97d4e1be",
   "metadata": {},
   "outputs": [
    {
     "data": {
      "text/plain": [
       "dict"
      ]
     },
     "execution_count": 48,
     "metadata": {},
     "output_type": "execute_result"
    }
   ],
   "source": [
    "type(ornekFonksiyon(muz=100,ananas=200,elma=300))"
   ]
  },
  {
   "cell_type": "code",
   "execution_count": 49,
   "id": "3deabd3d",
   "metadata": {},
   "outputs": [],
   "source": [
    "def keyWordKontrolu(**kwargs):\n",
    "    if \"sumeyye\" in kwargs:\n",
    "        print(\"sumeyye var\")\n",
    "    else:\n",
    "        print(\"sumeyye yok\")"
   ]
  },
  {
   "cell_type": "code",
   "execution_count": 51,
   "id": "128cbb76",
   "metadata": {},
   "outputs": [
    {
     "name": "stdout",
     "output_type": "stream",
     "text": [
      "sumeyye var\n"
     ]
    }
   ],
   "source": [
    "keyWordKontrolu(sumeyye=25, merve=27,melike=22)"
   ]
  },
  {
   "cell_type": "code",
   "execution_count": 52,
   "id": "dffbdc19",
   "metadata": {},
   "outputs": [],
   "source": [
    "## method: Sınıflar içerisinde kullandığımız fonksiyonlar olarak düşünebiliriz."
   ]
  },
  {
   "cell_type": "code",
   "execution_count": null,
   "id": "1ea0e1f8",
   "metadata": {},
   "outputs": [],
   "source": []
  }
 ],
 "metadata": {
  "kernelspec": {
   "display_name": "Python 3 (ipykernel)",
   "language": "python",
   "name": "python3"
  },
  "language_info": {
   "codemirror_mode": {
    "name": "ipython",
    "version": 3
   },
   "file_extension": ".py",
   "mimetype": "text/x-python",
   "name": "python",
   "nbconvert_exporter": "python",
   "pygments_lexer": "ipython3",
   "version": "3.11.4"
  }
 },
 "nbformat": 4,
 "nbformat_minor": 5
}
