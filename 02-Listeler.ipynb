{
 "cells": [
  {
   "cell_type": "code",
   "execution_count": 1,
   "id": "d3e791ff",
   "metadata": {},
   "outputs": [],
   "source": [
    "# immutability -değişmezlik, mutable-değişebilir"
   ]
  },
  {
   "cell_type": "code",
   "execution_count": 10,
   "id": "5476ac98",
   "metadata": {},
   "outputs": [],
   "source": [
    "benimListem = [10,20,30,40]"
   ]
  },
  {
   "cell_type": "code",
   "execution_count": 3,
   "id": "71a6ede6",
   "metadata": {},
   "outputs": [
    {
     "data": {
      "text/plain": [
       "list"
      ]
     },
     "execution_count": 3,
     "metadata": {},
     "output_type": "execute_result"
    }
   ],
   "source": [
    "type(benimListem)"
   ]
  },
  {
   "cell_type": "code",
   "execution_count": 4,
   "id": "72a50631",
   "metadata": {},
   "outputs": [],
   "source": [
    "benimNumaram = 10\n",
    "benimDigerNumaram = 20"
   ]
  },
  {
   "cell_type": "code",
   "execution_count": 5,
   "id": "eeaaa65e",
   "metadata": {},
   "outputs": [],
   "source": [
    "benimNumaraListem = [benimNumaram,benimDigerNumaram]"
   ]
  },
  {
   "cell_type": "code",
   "execution_count": 11,
   "id": "097e1ffc",
   "metadata": {},
   "outputs": [
    {
     "data": {
      "text/plain": [
       "10"
      ]
     },
     "execution_count": 11,
     "metadata": {},
     "output_type": "execute_result"
    }
   ],
   "source": [
    "benimListem[0]"
   ]
  },
  {
   "cell_type": "code",
   "execution_count": 12,
   "id": "c1d985ea",
   "metadata": {},
   "outputs": [
    {
     "data": {
      "text/plain": [
       "10"
      ]
     },
     "execution_count": 12,
     "metadata": {},
     "output_type": "execute_result"
    }
   ],
   "source": [
    "benimNumaraListem[0]"
   ]
  },
  {
   "cell_type": "code",
   "execution_count": 13,
   "id": "40718103",
   "metadata": {},
   "outputs": [],
   "source": [
    "benimListem[0] = 100"
   ]
  },
  {
   "cell_type": "code",
   "execution_count": 14,
   "id": "ba7b5aa6",
   "metadata": {},
   "outputs": [
    {
     "data": {
      "text/plain": [
       "[100, 20, 30, 40]"
      ]
     },
     "execution_count": 14,
     "metadata": {},
     "output_type": "execute_result"
    }
   ],
   "source": [
    "benimListem #mutable"
   ]
  },
  {
   "cell_type": "code",
   "execution_count": 15,
   "id": "3f334e6c",
   "metadata": {},
   "outputs": [],
   "source": [
    "benimListem.append(50) # append : eklemek"
   ]
  },
  {
   "cell_type": "code",
   "execution_count": 16,
   "id": "3beb4b52",
   "metadata": {},
   "outputs": [
    {
     "data": {
      "text/plain": [
       "[100, 20, 30, 40, 50]"
      ]
     },
     "execution_count": 16,
     "metadata": {},
     "output_type": "execute_result"
    }
   ],
   "source": [
    "benimListem"
   ]
  },
  {
   "cell_type": "code",
   "execution_count": 17,
   "id": "90785345",
   "metadata": {},
   "outputs": [
    {
     "data": {
      "text/plain": [
       "50"
      ]
     },
     "execution_count": 17,
     "metadata": {},
     "output_type": "execute_result"
    }
   ],
   "source": [
    "benimListem.pop()"
   ]
  },
  {
   "cell_type": "code",
   "execution_count": 18,
   "id": "f33b3b18",
   "metadata": {},
   "outputs": [
    {
     "data": {
      "text/plain": [
       "[100, 20, 30, 40]"
      ]
     },
     "execution_count": 18,
     "metadata": {},
     "output_type": "execute_result"
    }
   ],
   "source": [
    "benimListem"
   ]
  },
  {
   "cell_type": "code",
   "execution_count": 19,
   "id": "ea06947a",
   "metadata": {},
   "outputs": [],
   "source": [
    "benimListem.remove(40)"
   ]
  },
  {
   "cell_type": "code",
   "execution_count": 20,
   "id": "fe83e3b3",
   "metadata": {},
   "outputs": [
    {
     "data": {
      "text/plain": [
       "[100, 20, 30]"
      ]
     },
     "execution_count": 20,
     "metadata": {},
     "output_type": "execute_result"
    }
   ],
   "source": [
    "benimListem"
   ]
  },
  {
   "cell_type": "code",
   "execution_count": 21,
   "id": "cf903607",
   "metadata": {},
   "outputs": [
    {
     "data": {
      "text/plain": [
       "1"
      ]
     },
     "execution_count": 21,
     "metadata": {},
     "output_type": "execute_result"
    }
   ],
   "source": [
    "benimListem.count(20) #listenin içinde 20 kaç defa geçiyor?"
   ]
  },
  {
   "cell_type": "code",
   "execution_count": 22,
   "id": "491c8ed5",
   "metadata": {},
   "outputs": [],
   "source": [
    "benimListem.append(20)"
   ]
  },
  {
   "cell_type": "code",
   "execution_count": 23,
   "id": "89a77400",
   "metadata": {},
   "outputs": [
    {
     "data": {
      "text/plain": [
       "[100, 20, 30, 20]"
      ]
     },
     "execution_count": 23,
     "metadata": {},
     "output_type": "execute_result"
    }
   ],
   "source": [
    "benimListem"
   ]
  },
  {
   "cell_type": "code",
   "execution_count": 24,
   "id": "8fa401d5",
   "metadata": {},
   "outputs": [
    {
     "data": {
      "text/plain": [
       "2"
      ]
     },
     "execution_count": 24,
     "metadata": {},
     "output_type": "execute_result"
    }
   ],
   "source": [
    "benimListem.count(20)"
   ]
  },
  {
   "cell_type": "code",
   "execution_count": 25,
   "id": "3894f7e8",
   "metadata": {},
   "outputs": [],
   "source": [
    "benimStringListem = [\"Selin\",\"Leyla\",\"Nazlı\"]"
   ]
  },
  {
   "cell_type": "code",
   "execution_count": 26,
   "id": "e6de0c09",
   "metadata": {},
   "outputs": [],
   "source": [
    "benimDigerListem = [\"Ozan\",\"Burak\",\"Hades\"]"
   ]
  },
  {
   "cell_type": "code",
   "execution_count": 27,
   "id": "b4a90351",
   "metadata": {},
   "outputs": [
    {
     "data": {
      "text/plain": [
       "'Burak'"
      ]
     },
     "execution_count": 27,
     "metadata": {},
     "output_type": "execute_result"
    }
   ],
   "source": [
    "benimDigerListem[1]"
   ]
  },
  {
   "cell_type": "code",
   "execution_count": 28,
   "id": "fa35773a",
   "metadata": {},
   "outputs": [],
   "source": [
    "benimToplamaListem = benimStringListem + benimDigerListem"
   ]
  },
  {
   "cell_type": "code",
   "execution_count": 29,
   "id": "b277d8c1",
   "metadata": {},
   "outputs": [
    {
     "data": {
      "text/plain": [
       "['Selin', 'Leyla', 'Nazlı', 'Ozan', 'Burak', 'Hades']"
      ]
     },
     "execution_count": 29,
     "metadata": {},
     "output_type": "execute_result"
    }
   ],
   "source": [
    "benimToplamaListem"
   ]
  },
  {
   "cell_type": "code",
   "execution_count": 31,
   "id": "925e4fee",
   "metadata": {},
   "outputs": [],
   "source": [
    "benimToplamaListem.reverse()"
   ]
  },
  {
   "cell_type": "code",
   "execution_count": 32,
   "id": "dadcb062",
   "metadata": {},
   "outputs": [
    {
     "data": {
      "text/plain": [
       "['Hades', 'Burak', 'Ozan', 'Nazlı', 'Leyla', 'Selin']"
      ]
     },
     "execution_count": 32,
     "metadata": {},
     "output_type": "execute_result"
    }
   ],
   "source": [
    "benimToplamaListem"
   ]
  },
  {
   "cell_type": "code",
   "execution_count": 3,
   "id": "b4b7a1fd",
   "metadata": {},
   "outputs": [],
   "source": [
    "karisikListe = [1,2,3.2,4,\"sunny\"]"
   ]
  },
  {
   "cell_type": "code",
   "execution_count": 4,
   "id": "077dc991",
   "metadata": {},
   "outputs": [
    {
     "data": {
      "text/plain": [
       "[1, 2, 3.2, 4, 'sunny']"
      ]
     },
     "execution_count": 4,
     "metadata": {},
     "output_type": "execute_result"
    }
   ],
   "source": [
    "karisikListe"
   ]
  },
  {
   "cell_type": "code",
   "execution_count": 10,
   "id": "168cc82f",
   "metadata": {},
   "outputs": [
    {
     "data": {
      "text/plain": [
       "'sunny'"
      ]
     },
     "execution_count": 10,
     "metadata": {},
     "output_type": "execute_result"
    }
   ],
   "source": [
    "sonucum = karisikListe[-1]\n",
    "karisikListe[-1]"
   ]
  },
  {
   "cell_type": "code",
   "execution_count": 11,
   "id": "f8419336",
   "metadata": {},
   "outputs": [
    {
     "data": {
      "text/plain": [
       "str"
      ]
     },
     "execution_count": 11,
     "metadata": {},
     "output_type": "execute_result"
    }
   ],
   "source": [
    "type(sonucum)"
   ]
  },
  {
   "cell_type": "code",
   "execution_count": 12,
   "id": "4d27cf45",
   "metadata": {},
   "outputs": [],
   "source": [
    "#nested birbiri içine geçmiş yuvalanmış anlamına geliyor"
   ]
  },
  {
   "cell_type": "code",
   "execution_count": 14,
   "id": "98e50d53",
   "metadata": {},
   "outputs": [],
   "source": [
    "nestedList = [1,2,3,4.5,\"sum\",[\"s\",6]]"
   ]
  },
  {
   "cell_type": "code",
   "execution_count": 16,
   "id": "8f7f0d77",
   "metadata": {},
   "outputs": [
    {
     "data": {
      "text/plain": [
       "list"
      ]
     },
     "execution_count": 16,
     "metadata": {},
     "output_type": "execute_result"
    }
   ],
   "source": [
    "type(nestedList[5])"
   ]
  },
  {
   "cell_type": "code",
   "execution_count": 17,
   "id": "c162cf19",
   "metadata": {},
   "outputs": [],
   "source": [
    "benimNestedDegiskenim = nestedList[5][0]"
   ]
  },
  {
   "cell_type": "code",
   "execution_count": 18,
   "id": "719e5ae7",
   "metadata": {},
   "outputs": [
    {
     "data": {
      "text/plain": [
       "'s'"
      ]
     },
     "execution_count": 18,
     "metadata": {},
     "output_type": "execute_result"
    }
   ],
   "source": [
    "benimNestedDegiskenim"
   ]
  },
  {
   "cell_type": "code",
   "execution_count": 19,
   "id": "6b2b6adb",
   "metadata": {},
   "outputs": [],
   "source": [
    "karmasikListe = [[1,2,3,[\"a\",\"b\"],50],40,20,[\"z\",5.5],[3,[\"a\"]]]"
   ]
  },
  {
   "cell_type": "code",
   "execution_count": 20,
   "id": "13f0fc00",
   "metadata": {},
   "outputs": [],
   "source": [
    "bDegiskenim = karmasikListe[0][3][1]"
   ]
  },
  {
   "cell_type": "code",
   "execution_count": 21,
   "id": "bb96cc9a",
   "metadata": {},
   "outputs": [
    {
     "data": {
      "text/plain": [
       "'b'"
      ]
     },
     "execution_count": 21,
     "metadata": {},
     "output_type": "execute_result"
    }
   ],
   "source": [
    "bDegiskenim"
   ]
  },
  {
   "cell_type": "code",
   "execution_count": 22,
   "id": "a378b457",
   "metadata": {},
   "outputs": [
    {
     "data": {
      "text/plain": [
       "[1, 2, 3, 4.5, 'sum', ['s', 6]]"
      ]
     },
     "execution_count": 22,
     "metadata": {},
     "output_type": "execute_result"
    }
   ],
   "source": [
    "nestedList"
   ]
  },
  {
   "cell_type": "code",
   "execution_count": 26,
   "id": "9c9e7177",
   "metadata": {},
   "outputs": [
    {
     "data": {
      "text/plain": [
       "[1, 2]"
      ]
     },
     "execution_count": 26,
     "metadata": {},
     "output_type": "execute_result"
    }
   ],
   "source": [
    "nestedList[:2]"
   ]
  },
  {
   "cell_type": "code",
   "execution_count": null,
   "id": "89ff6c4f",
   "metadata": {},
   "outputs": [],
   "source": []
  }
 ],
 "metadata": {
  "kernelspec": {
   "display_name": "Python 3 (ipykernel)",
   "language": "python",
   "name": "python3"
  },
  "language_info": {
   "codemirror_mode": {
    "name": "ipython",
    "version": 3
   },
   "file_extension": ".py",
   "mimetype": "text/x-python",
   "name": "python",
   "nbconvert_exporter": "python",
   "pygments_lexer": "ipython3",
   "version": "3.11.4"
  }
 },
 "nbformat": 4,
 "nbformat_minor": 5
}
