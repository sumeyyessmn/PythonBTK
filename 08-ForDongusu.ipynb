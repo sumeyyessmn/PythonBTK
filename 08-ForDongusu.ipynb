{
 "cells": [
  {
   "cell_type": "code",
   "execution_count": 1,
   "id": "8cea16b3",
   "metadata": {},
   "outputs": [],
   "source": [
    "benimListem = [10,20,30,40,50]"
   ]
  },
  {
   "cell_type": "code",
   "execution_count": 2,
   "id": "8d8eef06",
   "metadata": {},
   "outputs": [
    {
     "name": "stdout",
     "output_type": "stream",
     "text": [
      "listenin içinde mevcut\n"
     ]
    }
   ],
   "source": [
    "if 10 in benimListem :\n",
    "    print(\"listenin içinde mevcut\")"
   ]
  },
  {
   "cell_type": "code",
   "execution_count": 3,
   "id": "2b7f525f",
   "metadata": {},
   "outputs": [
    {
     "data": {
      "text/plain": [
       "16.666666666666668"
      ]
     },
     "execution_count": 3,
     "metadata": {},
     "output_type": "execute_result"
    }
   ],
   "source": [
    "benimListem[0]*5/3"
   ]
  },
  {
   "cell_type": "code",
   "execution_count": 4,
   "id": "d0a3c3db",
   "metadata": {},
   "outputs": [
    {
     "data": {
      "text/plain": [
       "33.333333333333336"
      ]
     },
     "execution_count": 4,
     "metadata": {},
     "output_type": "execute_result"
    }
   ],
   "source": [
    "benimListem[1]*5/3"
   ]
  },
  {
   "cell_type": "code",
   "execution_count": 6,
   "id": "2eb92e42",
   "metadata": {},
   "outputs": [
    {
     "name": "stdout",
     "output_type": "stream",
     "text": [
      "döngü başladı\n",
      "10\n",
      "20\n",
      "30\n",
      "40\n",
      "50\n",
      "döngü bitti\n"
     ]
    }
   ],
   "source": [
    "print(\"döngü başladı\")\n",
    "for numara in benimListem:\n",
    "    print(numara)\n",
    "print(\"döngü bitti\")"
   ]
  },
  {
   "cell_type": "code",
   "execution_count": 8,
   "id": "ba1f4b04",
   "metadata": {},
   "outputs": [
    {
     "name": "stdout",
     "output_type": "stream",
     "text": [
      "16.666666666666668\n",
      "33.333333333333336\n",
      "50.0\n",
      "66.66666666666667\n",
      "83.33333333333333\n"
     ]
    }
   ],
   "source": [
    "for num in benimListem:\n",
    "    yeniNum = num *5 /3\n",
    "    print(yeniNum)"
   ]
  },
  {
   "cell_type": "code",
   "execution_count": 9,
   "id": "3514a2b6",
   "metadata": {},
   "outputs": [],
   "source": [
    "yeniListe = [1,2,3,4,5,6]"
   ]
  },
  {
   "cell_type": "code",
   "execution_count": 14,
   "id": "ef178f12",
   "metadata": {},
   "outputs": [
    {
     "name": "stdout",
     "output_type": "stream",
     "text": [
      "1  tektir\n",
      "2  çifttir\n",
      "3  tektir\n",
      "4  çifttir\n",
      "5  tektir\n",
      "6  çifttir\n"
     ]
    }
   ],
   "source": [
    "for rakam in yeniListe:\n",
    "    if rakam % 2==0 :\n",
    "        #print(rakam)\n",
    "        print(rakam, \" çifttir\")\n",
    "    else:\n",
    "        print(rakam , \" tektir\")"
   ]
  },
  {
   "cell_type": "code",
   "execution_count": 15,
   "id": "7abf1dd3",
   "metadata": {},
   "outputs": [],
   "source": [
    "yeniString = \"sumeyye sisman\""
   ]
  },
  {
   "cell_type": "code",
   "execution_count": 16,
   "id": "aa265f45",
   "metadata": {},
   "outputs": [
    {
     "name": "stdout",
     "output_type": "stream",
     "text": [
      "s\n",
      "u\n",
      "m\n",
      "e\n",
      "y\n",
      "y\n",
      "e\n",
      " \n",
      "s\n",
      "i\n",
      "s\n",
      "m\n",
      "a\n",
      "n\n"
     ]
    }
   ],
   "source": [
    "for harf in yeniString:\n",
    "    print(harf)"
   ]
  },
  {
   "cell_type": "code",
   "execution_count": 17,
   "id": "d57be8e5",
   "metadata": {},
   "outputs": [],
   "source": [
    "benimTuple = (1,2,3,4,5,6)"
   ]
  },
  {
   "cell_type": "code",
   "execution_count": 18,
   "id": "634d1dd3",
   "metadata": {},
   "outputs": [
    {
     "name": "stdout",
     "output_type": "stream",
     "text": [
      "1\n",
      "2\n",
      "3\n",
      "4\n",
      "5\n",
      "6\n"
     ]
    }
   ],
   "source": [
    "for eleman in benimTuple:\n",
    "    print(eleman)"
   ]
  },
  {
   "cell_type": "code",
   "execution_count": 19,
   "id": "48c0e5ba",
   "metadata": {},
   "outputs": [],
   "source": [
    "koordinatListesi = [(10.2,15.2),(32.4,16.2),(40.2,20.2)]"
   ]
  },
  {
   "cell_type": "code",
   "execution_count": 20,
   "id": "3ffaea3e",
   "metadata": {},
   "outputs": [
    {
     "data": {
      "text/plain": [
       "tuple"
      ]
     },
     "execution_count": 20,
     "metadata": {},
     "output_type": "execute_result"
    }
   ],
   "source": [
    "type(koordinatListesi[1])"
   ]
  },
  {
   "cell_type": "code",
   "execution_count": 21,
   "id": "f4c01e8a",
   "metadata": {},
   "outputs": [
    {
     "name": "stdout",
     "output_type": "stream",
     "text": [
      "10.2\n",
      "32.4\n",
      "40.2\n"
     ]
    }
   ],
   "source": [
    "for eleman in koordinatListesi:\n",
    "    print(eleman[0])"
   ]
  },
  {
   "cell_type": "code",
   "execution_count": 23,
   "id": "8ca00604",
   "metadata": {},
   "outputs": [
    {
     "name": "stdout",
     "output_type": "stream",
     "text": [
      "15.2\n",
      "16.2\n",
      "20.2\n"
     ]
    }
   ],
   "source": [
    "for (x,y) in koordinatListesi:\n",
    "    print(y)"
   ]
  },
  {
   "cell_type": "code",
   "execution_count": 24,
   "id": "b363a1cc",
   "metadata": {},
   "outputs": [],
   "source": [
    "benimGaripListem = [(1,2,3),(4,5,6),(7,8,9)]"
   ]
  },
  {
   "cell_type": "code",
   "execution_count": 25,
   "id": "89865fce",
   "metadata": {},
   "outputs": [
    {
     "name": "stdout",
     "output_type": "stream",
     "text": [
      "3\n",
      "6\n",
      "9\n"
     ]
    }
   ],
   "source": [
    "for (x,y,z) in benimGaripListem:\n",
    "    print(z)"
   ]
  },
  {
   "cell_type": "code",
   "execution_count": 26,
   "id": "379bd9b5",
   "metadata": {},
   "outputs": [],
   "source": [
    "benimSozluk = {\"muz\":150,\"portakal\":250,\"elma\":400}"
   ]
  },
  {
   "cell_type": "code",
   "execution_count": 27,
   "id": "d2edf21d",
   "metadata": {},
   "outputs": [
    {
     "data": {
      "text/plain": [
       "dict_items([('muz', 150), ('portakal', 250), ('elma', 400)])"
      ]
     },
     "execution_count": 27,
     "metadata": {},
     "output_type": "execute_result"
    }
   ],
   "source": [
    "benimSozluk.items()"
   ]
  },
  {
   "cell_type": "code",
   "execution_count": 31,
   "id": "22ed218f",
   "metadata": {},
   "outputs": [
    {
     "name": "stdout",
     "output_type": "stream",
     "text": [
      "150\n",
      "250\n",
      "400\n"
     ]
    }
   ],
   "source": [
    "for (anahtar,deger) in benimSozluk.items():\n",
    "    print(deger)"
   ]
  },
  {
   "cell_type": "code",
   "execution_count": null,
   "id": "dd8f3660",
   "metadata": {},
   "outputs": [],
   "source": []
  }
 ],
 "metadata": {
  "kernelspec": {
   "display_name": "Python 3 (ipykernel)",
   "language": "python",
   "name": "python3"
  },
  "language_info": {
   "codemirror_mode": {
    "name": "ipython",
    "version": 3
   },
   "file_extension": ".py",
   "mimetype": "text/x-python",
   "name": "python",
   "nbconvert_exporter": "python",
   "pygments_lexer": "ipython3",
   "version": "3.11.4"
  }
 },
 "nbformat": 4,
 "nbformat_minor": 5
}
