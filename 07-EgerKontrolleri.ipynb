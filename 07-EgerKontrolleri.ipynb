{
 "cells": [
  {
   "cell_type": "code",
   "execution_count": 1,
   "id": "233e7906",
   "metadata": {},
   "outputs": [
    {
     "data": {
      "text/plain": [
       "True"
      ]
     },
     "execution_count": 1,
     "metadata": {},
     "output_type": "execute_result"
    }
   ],
   "source": [
    "3 > 1"
   ]
  },
  {
   "cell_type": "code",
   "execution_count": 3,
   "id": "2d67a8dd",
   "metadata": {},
   "outputs": [
    {
     "name": "stdout",
     "output_type": "stream",
     "text": [
      "if koşulunun  dışına çıktık\n"
     ]
    }
   ],
   "source": [
    "if 3 > 4 :\n",
    "    print(\"sumeyye sisman\")\n",
    "    print(\"if koşulu sağlandı\")\n",
    "print(\"if koşulunun  dışına çıktık\")"
   ]
  },
  {
   "cell_type": "code",
   "execution_count": 14,
   "id": "2ac00cf1",
   "metadata": {},
   "outputs": [],
   "source": [
    "x = 4"
   ]
  },
  {
   "cell_type": "code",
   "execution_count": 15,
   "id": "b71eae09",
   "metadata": {},
   "outputs": [],
   "source": [
    "y = 4"
   ]
  },
  {
   "cell_type": "code",
   "execution_count": 17,
   "id": "e2687062",
   "metadata": {},
   "outputs": [
    {
     "name": "stdout",
     "output_type": "stream",
     "text": [
      "x ve y birbirine eşitmiş\n"
     ]
    }
   ],
   "source": [
    "if x > y :\n",
    "    print(\"x, y'den daha büyükmüş\")\n",
    "elif y > x :\n",
    "    print(\"y, x'den daha büyükmüş\")\n",
    "else :\n",
    "    print(\"x ve y birbirine eşitmiş\")"
   ]
  },
  {
   "cell_type": "code",
   "execution_count": 24,
   "id": "103085eb",
   "metadata": {},
   "outputs": [
    {
     "name": "stdout",
     "output_type": "stream",
     "text": [
      "Super Kahraman seçiniz: Superman\n"
     ]
    }
   ],
   "source": [
    "benimKahramanim = input(\"Super Kahraman seçiniz: \")"
   ]
  },
  {
   "cell_type": "code",
   "execution_count": 25,
   "id": "f95ddce6",
   "metadata": {},
   "outputs": [
    {
     "name": "stdout",
     "output_type": "stream",
     "text": [
      "Superman'i seçtiniz. Superman olsan toplayamazsın zor :)\n"
     ]
    }
   ],
   "source": [
    "if(benimKahramanim == \"Superman\"):\n",
    "    print(\"Superman'i seçtiniz. Superman olsan toplayamazsın zor :)\")\n",
    "elif(benimKahramanim == \"Batman\"):\n",
    "    print(\"Batman'i seçtiniz. Karanlıklarda boğulabilirsiniz :D\")\n",
    "elif(benimKahramanim == \"Spiderman\"):\n",
    "    print(\"Spidermanı seçtiniz. Derdinize derman spiderman :D\")\n",
    "elif(benimKahramanim == \"Ironman\"):\n",
    "    print(\"Ironmani seçtiniz. Yorumsuz\")\n",
    "else: \n",
    "    print(\"Aradığınız kahraman bu değil !\")\n"
   ]
  },
  {
   "cell_type": "code",
   "execution_count": 26,
   "id": "4cb0222f",
   "metadata": {},
   "outputs": [],
   "source": [
    "a = 10\n",
    "b = 20\n",
    "c = 30"
   ]
  },
  {
   "cell_type": "code",
   "execution_count": 29,
   "id": "b06770ad",
   "metadata": {},
   "outputs": [
    {
     "name": "stdout",
     "output_type": "stream",
     "text": [
      "a, b'den küçük ve b de c'den küçük\n"
     ]
    }
   ],
   "source": [
    "if a > b and b > c:\n",
    "    print(\"a, b'den büyük ve b de c'den büyük\")\n",
    "elif a < b and b < c:\n",
    "    print(\"a, b'den küçük ve b de c'den küçük\")\n",
    "else: \n",
    "    print(\"bu koşullar tutmadı\")"
   ]
  },
  {
   "cell_type": "code",
   "execution_count": 30,
   "id": "aaf5b749",
   "metadata": {},
   "outputs": [],
   "source": [
    "m = 10\n",
    "k = 4\n",
    "l = 1"
   ]
  },
  {
   "cell_type": "code",
   "execution_count": 31,
   "id": "2d8b4bbf",
   "metadata": {},
   "outputs": [
    {
     "name": "stdout",
     "output_type": "stream",
     "text": [
      "bu çalıştırılacak mı\n"
     ]
    }
   ],
   "source": [
    "if m > k or k > l:\n",
    "    print(\"bu çalıştırılacak mı\")"
   ]
  },
  {
   "cell_type": "code",
   "execution_count": 38,
   "id": "d373f54f",
   "metadata": {},
   "outputs": [],
   "source": [
    "karakterCanli = True"
   ]
  },
  {
   "cell_type": "code",
   "execution_count": 33,
   "id": "1c051b89",
   "metadata": {},
   "outputs": [
    {
     "name": "stdout",
     "output_type": "stream",
     "text": [
      "Oyun karakteriniz yaşıyor\n"
     ]
    }
   ],
   "source": [
    "if karakterCanli == True :\n",
    "    print(\"Oyun karakteriniz yaşıyor\")\n",
    "else: \n",
    "    print(\"Oyun karakteriniz yaşamıyor\")"
   ]
  },
  {
   "cell_type": "code",
   "execution_count": 34,
   "id": "be49e187",
   "metadata": {},
   "outputs": [
    {
     "name": "stdout",
     "output_type": "stream",
     "text": [
      "Oyun karakteriniz yaşıyor\n"
     ]
    }
   ],
   "source": [
    "if karakterCanli :\n",
    "    print(\"Oyun karakteriniz yaşıyor\")\n",
    "else:\n",
    "    print(\"Oyun karakteriniz yaşamıyor\")"
   ]
  },
  {
   "cell_type": "code",
   "execution_count": 39,
   "id": "b51080a4",
   "metadata": {},
   "outputs": [],
   "source": [
    "if not karakterCanli:\n",
    "    print(\"Karakteriniz canlı değil\")"
   ]
  },
  {
   "cell_type": "code",
   "execution_count": 40,
   "id": "df381bab",
   "metadata": {},
   "outputs": [],
   "source": [
    "benimString = \"sumeyye sisman\""
   ]
  },
  {
   "cell_type": "code",
   "execution_count": 43,
   "id": "651df1a3",
   "metadata": {},
   "outputs": [
    {
     "name": "stdout",
     "output_type": "stream",
     "text": [
      "eşit değilmiş\n"
     ]
    }
   ],
   "source": [
    "if benimString == \"Sumeyye Sisman\":\n",
    "    print(\"eşitmiş\")\n",
    "else:\n",
    "    print(\"eşit değilmiş\")"
   ]
  },
  {
   "cell_type": "code",
   "execution_count": 46,
   "id": "539186d8",
   "metadata": {},
   "outputs": [
    {
     "name": "stdout",
     "output_type": "stream",
     "text": [
      "varmış\n"
     ]
    }
   ],
   "source": [
    "if \"sisman\" in benimString:\n",
    "    print(\"varmış\")\n",
    "else:\n",
    "    print(\"yokmuş\")"
   ]
  },
  {
   "cell_type": "code",
   "execution_count": 47,
   "id": "9412b98d",
   "metadata": {},
   "outputs": [],
   "source": [
    "benimListem = [10,20,30,40]"
   ]
  },
  {
   "cell_type": "code",
   "execution_count": 48,
   "id": "8e95c071",
   "metadata": {},
   "outputs": [
    {
     "name": "stdout",
     "output_type": "stream",
     "text": [
      "evet var\n"
     ]
    }
   ],
   "source": [
    "if 10 in benimListem :\n",
    "    print(\"evet var\")"
   ]
  },
  {
   "cell_type": "code",
   "execution_count": 49,
   "id": "9ebf0b95",
   "metadata": {},
   "outputs": [],
   "source": [
    "benimSozluk = {\"muz\":100,\"elma\":200,\"karpuz\":500}"
   ]
  },
  {
   "cell_type": "code",
   "execution_count": 51,
   "id": "2ad46e5c",
   "metadata": {},
   "outputs": [
    {
     "name": "stdout",
     "output_type": "stream",
     "text": [
      "varmış\n"
     ]
    }
   ],
   "source": [
    "if \"muz\" in benimSozluk.keys():\n",
    "    print(\"varmış\")"
   ]
  },
  {
   "cell_type": "code",
   "execution_count": 52,
   "id": "1267e3bc",
   "metadata": {},
   "outputs": [],
   "source": [
    "if 250 in benimSozluk.values():\n",
    "    print(\"evet\")"
   ]
  },
  {
   "cell_type": "code",
   "execution_count": null,
   "id": "dc7a8848",
   "metadata": {},
   "outputs": [],
   "source": []
  }
 ],
 "metadata": {
  "kernelspec": {
   "display_name": "Python 3 (ipykernel)",
   "language": "python",
   "name": "python3"
  },
  "language_info": {
   "codemirror_mode": {
    "name": "ipython",
    "version": 3
   },
   "file_extension": ".py",
   "mimetype": "text/x-python",
   "name": "python",
   "nbconvert_exporter": "python",
   "pygments_lexer": "ipython3",
   "version": "3.11.4"
  }
 },
 "nbformat": 4,
 "nbformat_minor": 5
}
