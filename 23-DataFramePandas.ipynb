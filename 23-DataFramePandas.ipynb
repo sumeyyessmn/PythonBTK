{
 "cells": [
  {
   "cell_type": "code",
   "execution_count": 1,
   "id": "a4879b0e",
   "metadata": {},
   "outputs": [],
   "source": [
    "import numpy as np\n",
    "import pandas as pd"
   ]
  },
  {
   "cell_type": "code",
   "execution_count": 4,
   "id": "710ee817",
   "metadata": {},
   "outputs": [],
   "source": [
    "data = np.random.randn(4,3)"
   ]
  },
  {
   "cell_type": "code",
   "execution_count": 5,
   "id": "7b7e5df0",
   "metadata": {},
   "outputs": [
    {
     "data": {
      "text/plain": [
       "array([[-1.61697544,  0.56919658,  0.18487117],\n",
       "       [ 1.15290158,  0.26324409,  0.19691373],\n",
       "       [-0.77123935,  1.06472067,  0.98003134],\n",
       "       [ 0.4557522 ,  0.27294338, -1.90451699]])"
      ]
     },
     "execution_count": 5,
     "metadata": {},
     "output_type": "execute_result"
    }
   ],
   "source": [
    "data"
   ]
  },
  {
   "cell_type": "code",
   "execution_count": 8,
   "id": "94c47b75",
   "metadata": {},
   "outputs": [],
   "source": [
    "dataFrame = pd.DataFrame(data)"
   ]
  },
  {
   "cell_type": "code",
   "execution_count": 9,
   "id": "9d812452",
   "metadata": {},
   "outputs": [
    {
     "data": {
      "text/html": [
       "<div>\n",
       "<style scoped>\n",
       "    .dataframe tbody tr th:only-of-type {\n",
       "        vertical-align: middle;\n",
       "    }\n",
       "\n",
       "    .dataframe tbody tr th {\n",
       "        vertical-align: top;\n",
       "    }\n",
       "\n",
       "    .dataframe thead th {\n",
       "        text-align: right;\n",
       "    }\n",
       "</style>\n",
       "<table border=\"1\" class=\"dataframe\">\n",
       "  <thead>\n",
       "    <tr style=\"text-align: right;\">\n",
       "      <th></th>\n",
       "      <th>0</th>\n",
       "      <th>1</th>\n",
       "      <th>2</th>\n",
       "    </tr>\n",
       "  </thead>\n",
       "  <tbody>\n",
       "    <tr>\n",
       "      <th>0</th>\n",
       "      <td>-1.616975</td>\n",
       "      <td>0.569197</td>\n",
       "      <td>0.184871</td>\n",
       "    </tr>\n",
       "    <tr>\n",
       "      <th>1</th>\n",
       "      <td>1.152902</td>\n",
       "      <td>0.263244</td>\n",
       "      <td>0.196914</td>\n",
       "    </tr>\n",
       "    <tr>\n",
       "      <th>2</th>\n",
       "      <td>-0.771239</td>\n",
       "      <td>1.064721</td>\n",
       "      <td>0.980031</td>\n",
       "    </tr>\n",
       "    <tr>\n",
       "      <th>3</th>\n",
       "      <td>0.455752</td>\n",
       "      <td>0.272943</td>\n",
       "      <td>-1.904517</td>\n",
       "    </tr>\n",
       "  </tbody>\n",
       "</table>\n",
       "</div>"
      ],
      "text/plain": [
       "          0         1         2\n",
       "0 -1.616975  0.569197  0.184871\n",
       "1  1.152902  0.263244  0.196914\n",
       "2 -0.771239  1.064721  0.980031\n",
       "3  0.455752  0.272943 -1.904517"
      ]
     },
     "execution_count": 9,
     "metadata": {},
     "output_type": "execute_result"
    }
   ],
   "source": [
    "dataFrame"
   ]
  },
  {
   "cell_type": "code",
   "execution_count": 11,
   "id": "094db429",
   "metadata": {},
   "outputs": [
    {
     "data": {
      "text/plain": [
       "pandas.core.series.Series"
      ]
     },
     "execution_count": 11,
     "metadata": {},
     "output_type": "execute_result"
    }
   ],
   "source": [
    "type(dataFrame[0])"
   ]
  },
  {
   "cell_type": "code",
   "execution_count": 13,
   "id": "11b95d89",
   "metadata": {},
   "outputs": [],
   "source": [
    "yeniDataFrame = pd.DataFrame(data,index=[\"Selin\",\"Leyla\",\"Nazlı\",\"Selena\"],columns=[\"Maas\",\"Yas\",\"CalismaSaatleri\"])"
   ]
  },
  {
   "cell_type": "code",
   "execution_count": 14,
   "id": "47bc92fe",
   "metadata": {},
   "outputs": [
    {
     "data": {
      "text/html": [
       "<div>\n",
       "<style scoped>\n",
       "    .dataframe tbody tr th:only-of-type {\n",
       "        vertical-align: middle;\n",
       "    }\n",
       "\n",
       "    .dataframe tbody tr th {\n",
       "        vertical-align: top;\n",
       "    }\n",
       "\n",
       "    .dataframe thead th {\n",
       "        text-align: right;\n",
       "    }\n",
       "</style>\n",
       "<table border=\"1\" class=\"dataframe\">\n",
       "  <thead>\n",
       "    <tr style=\"text-align: right;\">\n",
       "      <th></th>\n",
       "      <th>Maas</th>\n",
       "      <th>Yas</th>\n",
       "      <th>CalismaSaatleri</th>\n",
       "    </tr>\n",
       "  </thead>\n",
       "  <tbody>\n",
       "    <tr>\n",
       "      <th>Selin</th>\n",
       "      <td>-1.616975</td>\n",
       "      <td>0.569197</td>\n",
       "      <td>0.184871</td>\n",
       "    </tr>\n",
       "    <tr>\n",
       "      <th>Leyla</th>\n",
       "      <td>1.152902</td>\n",
       "      <td>0.263244</td>\n",
       "      <td>0.196914</td>\n",
       "    </tr>\n",
       "    <tr>\n",
       "      <th>Nazlı</th>\n",
       "      <td>-0.771239</td>\n",
       "      <td>1.064721</td>\n",
       "      <td>0.980031</td>\n",
       "    </tr>\n",
       "    <tr>\n",
       "      <th>Selena</th>\n",
       "      <td>0.455752</td>\n",
       "      <td>0.272943</td>\n",
       "      <td>-1.904517</td>\n",
       "    </tr>\n",
       "  </tbody>\n",
       "</table>\n",
       "</div>"
      ],
      "text/plain": [
       "            Maas       Yas  CalismaSaatleri\n",
       "Selin  -1.616975  0.569197         0.184871\n",
       "Leyla   1.152902  0.263244         0.196914\n",
       "Nazlı  -0.771239  1.064721         0.980031\n",
       "Selena  0.455752  0.272943        -1.904517"
      ]
     },
     "execution_count": 14,
     "metadata": {},
     "output_type": "execute_result"
    }
   ],
   "source": [
    "yeniDataFrame"
   ]
  },
  {
   "cell_type": "code",
   "execution_count": 15,
   "id": "1bbf9ebf",
   "metadata": {},
   "outputs": [
    {
     "data": {
      "text/plain": [
       "Selin    -1.616975\n",
       "Leyla     1.152902\n",
       "Nazlı    -0.771239\n",
       "Selena    0.455752\n",
       "Name: Maas, dtype: float64"
      ]
     },
     "execution_count": 15,
     "metadata": {},
     "output_type": "execute_result"
    }
   ],
   "source": [
    "yeniDataFrame[\"Maas\"]"
   ]
  },
  {
   "cell_type": "code",
   "execution_count": 16,
   "id": "5bf561a2",
   "metadata": {},
   "outputs": [
    {
     "data": {
      "text/plain": [
       "Selin     0.184871\n",
       "Leyla     0.196914\n",
       "Nazlı     0.980031\n",
       "Selena   -1.904517\n",
       "Name: CalismaSaatleri, dtype: float64"
      ]
     },
     "execution_count": 16,
     "metadata": {},
     "output_type": "execute_result"
    }
   ],
   "source": [
    "yeniDataFrame[\"CalismaSaatleri\"]"
   ]
  },
  {
   "cell_type": "code",
   "execution_count": 17,
   "id": "5b4babb1",
   "metadata": {},
   "outputs": [
    {
     "data": {
      "text/html": [
       "<div>\n",
       "<style scoped>\n",
       "    .dataframe tbody tr th:only-of-type {\n",
       "        vertical-align: middle;\n",
       "    }\n",
       "\n",
       "    .dataframe tbody tr th {\n",
       "        vertical-align: top;\n",
       "    }\n",
       "\n",
       "    .dataframe thead th {\n",
       "        text-align: right;\n",
       "    }\n",
       "</style>\n",
       "<table border=\"1\" class=\"dataframe\">\n",
       "  <thead>\n",
       "    <tr style=\"text-align: right;\">\n",
       "      <th></th>\n",
       "      <th>Maas</th>\n",
       "      <th>Yas</th>\n",
       "    </tr>\n",
       "  </thead>\n",
       "  <tbody>\n",
       "    <tr>\n",
       "      <th>Selin</th>\n",
       "      <td>-1.616975</td>\n",
       "      <td>0.569197</td>\n",
       "    </tr>\n",
       "    <tr>\n",
       "      <th>Leyla</th>\n",
       "      <td>1.152902</td>\n",
       "      <td>0.263244</td>\n",
       "    </tr>\n",
       "    <tr>\n",
       "      <th>Nazlı</th>\n",
       "      <td>-0.771239</td>\n",
       "      <td>1.064721</td>\n",
       "    </tr>\n",
       "    <tr>\n",
       "      <th>Selena</th>\n",
       "      <td>0.455752</td>\n",
       "      <td>0.272943</td>\n",
       "    </tr>\n",
       "  </tbody>\n",
       "</table>\n",
       "</div>"
      ],
      "text/plain": [
       "            Maas       Yas\n",
       "Selin  -1.616975  0.569197\n",
       "Leyla   1.152902  0.263244\n",
       "Nazlı  -0.771239  1.064721\n",
       "Selena  0.455752  0.272943"
      ]
     },
     "execution_count": 17,
     "metadata": {},
     "output_type": "execute_result"
    }
   ],
   "source": [
    "yeniDataFrame[[\"Maas\",\"Yas\"]]"
   ]
  },
  {
   "cell_type": "code",
   "execution_count": 21,
   "id": "e09f729b",
   "metadata": {},
   "outputs": [
    {
     "data": {
      "text/plain": [
       "Maas              -1.616975\n",
       "Yas                0.569197\n",
       "CalismaSaatleri    0.184871\n",
       "Name: Selin, dtype: float64"
      ]
     },
     "execution_count": 21,
     "metadata": {},
     "output_type": "execute_result"
    }
   ],
   "source": [
    "yeniDataFrame.loc[\"Selin\"] #yerini bul"
   ]
  },
  {
   "cell_type": "code",
   "execution_count": 22,
   "id": "1f01548b",
   "metadata": {},
   "outputs": [
    {
     "data": {
      "text/plain": [
       "Maas               1.152902\n",
       "Yas                0.263244\n",
       "CalismaSaatleri    0.196914\n",
       "Name: Leyla, dtype: float64"
      ]
     },
     "execution_count": 22,
     "metadata": {},
     "output_type": "execute_result"
    }
   ],
   "source": [
    "yeniDataFrame.iloc[1]"
   ]
  },
  {
   "cell_type": "code",
   "execution_count": 23,
   "id": "4bcef7c2",
   "metadata": {},
   "outputs": [
    {
     "data": {
      "text/html": [
       "<div>\n",
       "<style scoped>\n",
       "    .dataframe tbody tr th:only-of-type {\n",
       "        vertical-align: middle;\n",
       "    }\n",
       "\n",
       "    .dataframe tbody tr th {\n",
       "        vertical-align: top;\n",
       "    }\n",
       "\n",
       "    .dataframe thead th {\n",
       "        text-align: right;\n",
       "    }\n",
       "</style>\n",
       "<table border=\"1\" class=\"dataframe\">\n",
       "  <thead>\n",
       "    <tr style=\"text-align: right;\">\n",
       "      <th></th>\n",
       "      <th>Maas</th>\n",
       "      <th>Yas</th>\n",
       "      <th>CalismaSaatleri</th>\n",
       "    </tr>\n",
       "  </thead>\n",
       "  <tbody>\n",
       "    <tr>\n",
       "      <th>Selin</th>\n",
       "      <td>-1.616975</td>\n",
       "      <td>0.569197</td>\n",
       "      <td>0.184871</td>\n",
       "    </tr>\n",
       "    <tr>\n",
       "      <th>Leyla</th>\n",
       "      <td>1.152902</td>\n",
       "      <td>0.263244</td>\n",
       "      <td>0.196914</td>\n",
       "    </tr>\n",
       "    <tr>\n",
       "      <th>Nazlı</th>\n",
       "      <td>-0.771239</td>\n",
       "      <td>1.064721</td>\n",
       "      <td>0.980031</td>\n",
       "    </tr>\n",
       "    <tr>\n",
       "      <th>Selena</th>\n",
       "      <td>0.455752</td>\n",
       "      <td>0.272943</td>\n",
       "      <td>-1.904517</td>\n",
       "    </tr>\n",
       "  </tbody>\n",
       "</table>\n",
       "</div>"
      ],
      "text/plain": [
       "            Maas       Yas  CalismaSaatleri\n",
       "Selin  -1.616975  0.569197         0.184871\n",
       "Leyla   1.152902  0.263244         0.196914\n",
       "Nazlı  -0.771239  1.064721         0.980031\n",
       "Selena  0.455752  0.272943        -1.904517"
      ]
     },
     "execution_count": 23,
     "metadata": {},
     "output_type": "execute_result"
    }
   ],
   "source": [
    "yeniDataFrame"
   ]
  },
  {
   "cell_type": "code",
   "execution_count": 24,
   "id": "37311b0f",
   "metadata": {},
   "outputs": [],
   "source": [
    "yeniDataFrame[\"Emeklilik Yasi\"] = yeniDataFrame[\"Yas\"] + yeniDataFrame[\"Yas\"]"
   ]
  },
  {
   "cell_type": "code",
   "execution_count": 25,
   "id": "593308e9",
   "metadata": {},
   "outputs": [
    {
     "data": {
      "text/html": [
       "<div>\n",
       "<style scoped>\n",
       "    .dataframe tbody tr th:only-of-type {\n",
       "        vertical-align: middle;\n",
       "    }\n",
       "\n",
       "    .dataframe tbody tr th {\n",
       "        vertical-align: top;\n",
       "    }\n",
       "\n",
       "    .dataframe thead th {\n",
       "        text-align: right;\n",
       "    }\n",
       "</style>\n",
       "<table border=\"1\" class=\"dataframe\">\n",
       "  <thead>\n",
       "    <tr style=\"text-align: right;\">\n",
       "      <th></th>\n",
       "      <th>Maas</th>\n",
       "      <th>Yas</th>\n",
       "      <th>CalismaSaatleri</th>\n",
       "      <th>Emeklilik Yasi</th>\n",
       "    </tr>\n",
       "  </thead>\n",
       "  <tbody>\n",
       "    <tr>\n",
       "      <th>Selin</th>\n",
       "      <td>-1.616975</td>\n",
       "      <td>0.569197</td>\n",
       "      <td>0.184871</td>\n",
       "      <td>1.138393</td>\n",
       "    </tr>\n",
       "    <tr>\n",
       "      <th>Leyla</th>\n",
       "      <td>1.152902</td>\n",
       "      <td>0.263244</td>\n",
       "      <td>0.196914</td>\n",
       "      <td>0.526488</td>\n",
       "    </tr>\n",
       "    <tr>\n",
       "      <th>Nazlı</th>\n",
       "      <td>-0.771239</td>\n",
       "      <td>1.064721</td>\n",
       "      <td>0.980031</td>\n",
       "      <td>2.129441</td>\n",
       "    </tr>\n",
       "    <tr>\n",
       "      <th>Selena</th>\n",
       "      <td>0.455752</td>\n",
       "      <td>0.272943</td>\n",
       "      <td>-1.904517</td>\n",
       "      <td>0.545887</td>\n",
       "    </tr>\n",
       "  </tbody>\n",
       "</table>\n",
       "</div>"
      ],
      "text/plain": [
       "            Maas       Yas  CalismaSaatleri  Emeklilik Yasi\n",
       "Selin  -1.616975  0.569197         0.184871        1.138393\n",
       "Leyla   1.152902  0.263244         0.196914        0.526488\n",
       "Nazlı  -0.771239  1.064721         0.980031        2.129441\n",
       "Selena  0.455752  0.272943        -1.904517        0.545887"
      ]
     },
     "execution_count": 25,
     "metadata": {},
     "output_type": "execute_result"
    }
   ],
   "source": [
    "yeniDataFrame"
   ]
  },
  {
   "cell_type": "code",
   "execution_count": 29,
   "id": "d3ed99a5",
   "metadata": {},
   "outputs": [
    {
     "data": {
      "text/html": [
       "<div>\n",
       "<style scoped>\n",
       "    .dataframe tbody tr th:only-of-type {\n",
       "        vertical-align: middle;\n",
       "    }\n",
       "\n",
       "    .dataframe tbody tr th {\n",
       "        vertical-align: top;\n",
       "    }\n",
       "\n",
       "    .dataframe thead th {\n",
       "        text-align: right;\n",
       "    }\n",
       "</style>\n",
       "<table border=\"1\" class=\"dataframe\">\n",
       "  <thead>\n",
       "    <tr style=\"text-align: right;\">\n",
       "      <th></th>\n",
       "      <th>Maas</th>\n",
       "      <th>Yas</th>\n",
       "      <th>CalismaSaatleri</th>\n",
       "    </tr>\n",
       "  </thead>\n",
       "  <tbody>\n",
       "    <tr>\n",
       "      <th>Selin</th>\n",
       "      <td>-1.616975</td>\n",
       "      <td>0.569197</td>\n",
       "      <td>0.184871</td>\n",
       "    </tr>\n",
       "    <tr>\n",
       "      <th>Leyla</th>\n",
       "      <td>1.152902</td>\n",
       "      <td>0.263244</td>\n",
       "      <td>0.196914</td>\n",
       "    </tr>\n",
       "    <tr>\n",
       "      <th>Nazlı</th>\n",
       "      <td>-0.771239</td>\n",
       "      <td>1.064721</td>\n",
       "      <td>0.980031</td>\n",
       "    </tr>\n",
       "    <tr>\n",
       "      <th>Selena</th>\n",
       "      <td>0.455752</td>\n",
       "      <td>0.272943</td>\n",
       "      <td>-1.904517</td>\n",
       "    </tr>\n",
       "  </tbody>\n",
       "</table>\n",
       "</div>"
      ],
      "text/plain": [
       "            Maas       Yas  CalismaSaatleri\n",
       "Selin  -1.616975  0.569197         0.184871\n",
       "Leyla   1.152902  0.263244         0.196914\n",
       "Nazlı  -0.771239  1.064721         0.980031\n",
       "Selena  0.455752  0.272943        -1.904517"
      ]
     },
     "execution_count": 29,
     "metadata": {},
     "output_type": "execute_result"
    }
   ],
   "source": [
    "yeniDataFrame.drop(\"Emeklilik Yasi\",axis = 1) #drop düşürmek demek, axis 1 ise column da arıyor , row için ise axis = 0"
   ]
  },
  {
   "cell_type": "code",
   "execution_count": 31,
   "id": "0ce8ad0f",
   "metadata": {},
   "outputs": [
    {
     "data": {
      "text/html": [
       "<div>\n",
       "<style scoped>\n",
       "    .dataframe tbody tr th:only-of-type {\n",
       "        vertical-align: middle;\n",
       "    }\n",
       "\n",
       "    .dataframe tbody tr th {\n",
       "        vertical-align: top;\n",
       "    }\n",
       "\n",
       "    .dataframe thead th {\n",
       "        text-align: right;\n",
       "    }\n",
       "</style>\n",
       "<table border=\"1\" class=\"dataframe\">\n",
       "  <thead>\n",
       "    <tr style=\"text-align: right;\">\n",
       "      <th></th>\n",
       "      <th>Maas</th>\n",
       "      <th>Yas</th>\n",
       "      <th>CalismaSaatleri</th>\n",
       "      <th>Emeklilik Yasi</th>\n",
       "    </tr>\n",
       "  </thead>\n",
       "  <tbody>\n",
       "    <tr>\n",
       "      <th>Selin</th>\n",
       "      <td>-1.616975</td>\n",
       "      <td>0.569197</td>\n",
       "      <td>0.184871</td>\n",
       "      <td>1.138393</td>\n",
       "    </tr>\n",
       "    <tr>\n",
       "      <th>Leyla</th>\n",
       "      <td>1.152902</td>\n",
       "      <td>0.263244</td>\n",
       "      <td>0.196914</td>\n",
       "      <td>0.526488</td>\n",
       "    </tr>\n",
       "    <tr>\n",
       "      <th>Nazlı</th>\n",
       "      <td>-0.771239</td>\n",
       "      <td>1.064721</td>\n",
       "      <td>0.980031</td>\n",
       "      <td>2.129441</td>\n",
       "    </tr>\n",
       "  </tbody>\n",
       "</table>\n",
       "</div>"
      ],
      "text/plain": [
       "           Maas       Yas  CalismaSaatleri  Emeklilik Yasi\n",
       "Selin -1.616975  0.569197         0.184871        1.138393\n",
       "Leyla  1.152902  0.263244         0.196914        0.526488\n",
       "Nazlı -0.771239  1.064721         0.980031        2.129441"
      ]
     },
     "execution_count": 31,
     "metadata": {},
     "output_type": "execute_result"
    }
   ],
   "source": [
    "yeniDataFrame.drop(\"Selena\") #yeniDataFrame.drop(\"Selena\", axis = 0) aynı çıktıyı verir"
   ]
  },
  {
   "cell_type": "code",
   "execution_count": 32,
   "id": "256ce381",
   "metadata": {},
   "outputs": [
    {
     "data": {
      "text/html": [
       "<div>\n",
       "<style scoped>\n",
       "    .dataframe tbody tr th:only-of-type {\n",
       "        vertical-align: middle;\n",
       "    }\n",
       "\n",
       "    .dataframe tbody tr th {\n",
       "        vertical-align: top;\n",
       "    }\n",
       "\n",
       "    .dataframe thead th {\n",
       "        text-align: right;\n",
       "    }\n",
       "</style>\n",
       "<table border=\"1\" class=\"dataframe\">\n",
       "  <thead>\n",
       "    <tr style=\"text-align: right;\">\n",
       "      <th></th>\n",
       "      <th>Maas</th>\n",
       "      <th>Yas</th>\n",
       "      <th>CalismaSaatleri</th>\n",
       "      <th>Emeklilik Yasi</th>\n",
       "    </tr>\n",
       "  </thead>\n",
       "  <tbody>\n",
       "    <tr>\n",
       "      <th>Selin</th>\n",
       "      <td>-1.616975</td>\n",
       "      <td>0.569197</td>\n",
       "      <td>0.184871</td>\n",
       "      <td>1.138393</td>\n",
       "    </tr>\n",
       "    <tr>\n",
       "      <th>Leyla</th>\n",
       "      <td>1.152902</td>\n",
       "      <td>0.263244</td>\n",
       "      <td>0.196914</td>\n",
       "      <td>0.526488</td>\n",
       "    </tr>\n",
       "    <tr>\n",
       "      <th>Nazlı</th>\n",
       "      <td>-0.771239</td>\n",
       "      <td>1.064721</td>\n",
       "      <td>0.980031</td>\n",
       "      <td>2.129441</td>\n",
       "    </tr>\n",
       "    <tr>\n",
       "      <th>Selena</th>\n",
       "      <td>0.455752</td>\n",
       "      <td>0.272943</td>\n",
       "      <td>-1.904517</td>\n",
       "      <td>0.545887</td>\n",
       "    </tr>\n",
       "  </tbody>\n",
       "</table>\n",
       "</div>"
      ],
      "text/plain": [
       "            Maas       Yas  CalismaSaatleri  Emeklilik Yasi\n",
       "Selin  -1.616975  0.569197         0.184871        1.138393\n",
       "Leyla   1.152902  0.263244         0.196914        0.526488\n",
       "Nazlı  -0.771239  1.064721         0.980031        2.129441\n",
       "Selena  0.455752  0.272943        -1.904517        0.545887"
      ]
     },
     "execution_count": 32,
     "metadata": {},
     "output_type": "execute_result"
    }
   ],
   "source": [
    "yeniDataFrame"
   ]
  },
  {
   "cell_type": "code",
   "execution_count": 33,
   "id": "d51723bc",
   "metadata": {},
   "outputs": [],
   "source": [
    "yeniDataFrame.drop(\"Emeklilik Yasi\", axis = 1, inplace=True) #inplace : yerinde içerisinde bu işlemi yap, gerçekten siliniyor"
   ]
  },
  {
   "cell_type": "code",
   "execution_count": 34,
   "id": "6f00d852",
   "metadata": {},
   "outputs": [
    {
     "data": {
      "text/html": [
       "<div>\n",
       "<style scoped>\n",
       "    .dataframe tbody tr th:only-of-type {\n",
       "        vertical-align: middle;\n",
       "    }\n",
       "\n",
       "    .dataframe tbody tr th {\n",
       "        vertical-align: top;\n",
       "    }\n",
       "\n",
       "    .dataframe thead th {\n",
       "        text-align: right;\n",
       "    }\n",
       "</style>\n",
       "<table border=\"1\" class=\"dataframe\">\n",
       "  <thead>\n",
       "    <tr style=\"text-align: right;\">\n",
       "      <th></th>\n",
       "      <th>Maas</th>\n",
       "      <th>Yas</th>\n",
       "      <th>CalismaSaatleri</th>\n",
       "    </tr>\n",
       "  </thead>\n",
       "  <tbody>\n",
       "    <tr>\n",
       "      <th>Selin</th>\n",
       "      <td>-1.616975</td>\n",
       "      <td>0.569197</td>\n",
       "      <td>0.184871</td>\n",
       "    </tr>\n",
       "    <tr>\n",
       "      <th>Leyla</th>\n",
       "      <td>1.152902</td>\n",
       "      <td>0.263244</td>\n",
       "      <td>0.196914</td>\n",
       "    </tr>\n",
       "    <tr>\n",
       "      <th>Nazlı</th>\n",
       "      <td>-0.771239</td>\n",
       "      <td>1.064721</td>\n",
       "      <td>0.980031</td>\n",
       "    </tr>\n",
       "    <tr>\n",
       "      <th>Selena</th>\n",
       "      <td>0.455752</td>\n",
       "      <td>0.272943</td>\n",
       "      <td>-1.904517</td>\n",
       "    </tr>\n",
       "  </tbody>\n",
       "</table>\n",
       "</div>"
      ],
      "text/plain": [
       "            Maas       Yas  CalismaSaatleri\n",
       "Selin  -1.616975  0.569197         0.184871\n",
       "Leyla   1.152902  0.263244         0.196914\n",
       "Nazlı  -0.771239  1.064721         0.980031\n",
       "Selena  0.455752  0.272943        -1.904517"
      ]
     },
     "execution_count": 34,
     "metadata": {},
     "output_type": "execute_result"
    }
   ],
   "source": [
    "yeniDataFrame"
   ]
  },
  {
   "cell_type": "code",
   "execution_count": 36,
   "id": "48b72f04",
   "metadata": {},
   "outputs": [
    {
     "data": {
      "text/plain": [
       "0.2632440877796478"
      ]
     },
     "execution_count": 36,
     "metadata": {},
     "output_type": "execute_result"
    }
   ],
   "source": [
    "yeniDataFrame.loc[\"Leyla\"][\"Yas\"]"
   ]
  },
  {
   "cell_type": "code",
   "execution_count": 38,
   "id": "4721185d",
   "metadata": {},
   "outputs": [
    {
     "data": {
      "text/plain": [
       "-0.7712393453935915"
      ]
     },
     "execution_count": 38,
     "metadata": {},
     "output_type": "execute_result"
    }
   ],
   "source": [
    "yeniDataFrame.loc[\"Nazlı\",\"Maas\"]"
   ]
  },
  {
   "cell_type": "code",
   "execution_count": 40,
   "id": "2ec1532b",
   "metadata": {},
   "outputs": [],
   "source": [
    "booleanFrame = yeniDataFrame < 0"
   ]
  },
  {
   "cell_type": "code",
   "execution_count": 41,
   "id": "cba73361",
   "metadata": {},
   "outputs": [
    {
     "data": {
      "text/html": [
       "<div>\n",
       "<style scoped>\n",
       "    .dataframe tbody tr th:only-of-type {\n",
       "        vertical-align: middle;\n",
       "    }\n",
       "\n",
       "    .dataframe tbody tr th {\n",
       "        vertical-align: top;\n",
       "    }\n",
       "\n",
       "    .dataframe thead th {\n",
       "        text-align: right;\n",
       "    }\n",
       "</style>\n",
       "<table border=\"1\" class=\"dataframe\">\n",
       "  <thead>\n",
       "    <tr style=\"text-align: right;\">\n",
       "      <th></th>\n",
       "      <th>Maas</th>\n",
       "      <th>Yas</th>\n",
       "      <th>CalismaSaatleri</th>\n",
       "    </tr>\n",
       "  </thead>\n",
       "  <tbody>\n",
       "    <tr>\n",
       "      <th>Selin</th>\n",
       "      <td>True</td>\n",
       "      <td>False</td>\n",
       "      <td>False</td>\n",
       "    </tr>\n",
       "    <tr>\n",
       "      <th>Leyla</th>\n",
       "      <td>False</td>\n",
       "      <td>False</td>\n",
       "      <td>False</td>\n",
       "    </tr>\n",
       "    <tr>\n",
       "      <th>Nazlı</th>\n",
       "      <td>True</td>\n",
       "      <td>False</td>\n",
       "      <td>False</td>\n",
       "    </tr>\n",
       "    <tr>\n",
       "      <th>Selena</th>\n",
       "      <td>False</td>\n",
       "      <td>False</td>\n",
       "      <td>True</td>\n",
       "    </tr>\n",
       "  </tbody>\n",
       "</table>\n",
       "</div>"
      ],
      "text/plain": [
       "         Maas    Yas  CalismaSaatleri\n",
       "Selin    True  False            False\n",
       "Leyla   False  False            False\n",
       "Nazlı    True  False            False\n",
       "Selena  False  False             True"
      ]
     },
     "execution_count": 41,
     "metadata": {},
     "output_type": "execute_result"
    }
   ],
   "source": [
    "booleanFrame"
   ]
  },
  {
   "cell_type": "code",
   "execution_count": 42,
   "id": "1f173a63",
   "metadata": {},
   "outputs": [
    {
     "data": {
      "text/html": [
       "<div>\n",
       "<style scoped>\n",
       "    .dataframe tbody tr th:only-of-type {\n",
       "        vertical-align: middle;\n",
       "    }\n",
       "\n",
       "    .dataframe tbody tr th {\n",
       "        vertical-align: top;\n",
       "    }\n",
       "\n",
       "    .dataframe thead th {\n",
       "        text-align: right;\n",
       "    }\n",
       "</style>\n",
       "<table border=\"1\" class=\"dataframe\">\n",
       "  <thead>\n",
       "    <tr style=\"text-align: right;\">\n",
       "      <th></th>\n",
       "      <th>Maas</th>\n",
       "      <th>Yas</th>\n",
       "      <th>CalismaSaatleri</th>\n",
       "    </tr>\n",
       "  </thead>\n",
       "  <tbody>\n",
       "    <tr>\n",
       "      <th>Selin</th>\n",
       "      <td>-1.616975</td>\n",
       "      <td>NaN</td>\n",
       "      <td>NaN</td>\n",
       "    </tr>\n",
       "    <tr>\n",
       "      <th>Leyla</th>\n",
       "      <td>NaN</td>\n",
       "      <td>NaN</td>\n",
       "      <td>NaN</td>\n",
       "    </tr>\n",
       "    <tr>\n",
       "      <th>Nazlı</th>\n",
       "      <td>-0.771239</td>\n",
       "      <td>NaN</td>\n",
       "      <td>NaN</td>\n",
       "    </tr>\n",
       "    <tr>\n",
       "      <th>Selena</th>\n",
       "      <td>NaN</td>\n",
       "      <td>NaN</td>\n",
       "      <td>-1.904517</td>\n",
       "    </tr>\n",
       "  </tbody>\n",
       "</table>\n",
       "</div>"
      ],
      "text/plain": [
       "            Maas  Yas  CalismaSaatleri\n",
       "Selin  -1.616975  NaN              NaN\n",
       "Leyla        NaN  NaN              NaN\n",
       "Nazlı  -0.771239  NaN              NaN\n",
       "Selena       NaN  NaN        -1.904517"
      ]
     },
     "execution_count": 42,
     "metadata": {},
     "output_type": "execute_result"
    }
   ],
   "source": [
    "yeniDataFrame[booleanFrame]"
   ]
  },
  {
   "cell_type": "code",
   "execution_count": 43,
   "id": "b9484dce",
   "metadata": {},
   "outputs": [
    {
     "data": {
      "text/plain": [
       "Selin     True\n",
       "Leyla     True\n",
       "Nazlı     True\n",
       "Selena    True\n",
       "Name: Yas, dtype: bool"
      ]
     },
     "execution_count": 43,
     "metadata": {},
     "output_type": "execute_result"
    }
   ],
   "source": [
    "yeniDataFrame[\"Yas\"] > 0"
   ]
  },
  {
   "cell_type": "code",
   "execution_count": 46,
   "id": "dda85109",
   "metadata": {},
   "outputs": [
    {
     "data": {
      "text/html": [
       "<div>\n",
       "<style scoped>\n",
       "    .dataframe tbody tr th:only-of-type {\n",
       "        vertical-align: middle;\n",
       "    }\n",
       "\n",
       "    .dataframe tbody tr th {\n",
       "        vertical-align: top;\n",
       "    }\n",
       "\n",
       "    .dataframe thead th {\n",
       "        text-align: right;\n",
       "    }\n",
       "</style>\n",
       "<table border=\"1\" class=\"dataframe\">\n",
       "  <thead>\n",
       "    <tr style=\"text-align: right;\">\n",
       "      <th></th>\n",
       "      <th>Maas</th>\n",
       "      <th>Yas</th>\n",
       "      <th>CalismaSaatleri</th>\n",
       "    </tr>\n",
       "  </thead>\n",
       "  <tbody>\n",
       "    <tr>\n",
       "      <th>Selin</th>\n",
       "      <td>-1.616975</td>\n",
       "      <td>0.569197</td>\n",
       "      <td>0.184871</td>\n",
       "    </tr>\n",
       "    <tr>\n",
       "      <th>Leyla</th>\n",
       "      <td>1.152902</td>\n",
       "      <td>0.263244</td>\n",
       "      <td>0.196914</td>\n",
       "    </tr>\n",
       "    <tr>\n",
       "      <th>Nazlı</th>\n",
       "      <td>-0.771239</td>\n",
       "      <td>1.064721</td>\n",
       "      <td>0.980031</td>\n",
       "    </tr>\n",
       "    <tr>\n",
       "      <th>Selena</th>\n",
       "      <td>0.455752</td>\n",
       "      <td>0.272943</td>\n",
       "      <td>-1.904517</td>\n",
       "    </tr>\n",
       "  </tbody>\n",
       "</table>\n",
       "</div>"
      ],
      "text/plain": [
       "            Maas       Yas  CalismaSaatleri\n",
       "Selin  -1.616975  0.569197         0.184871\n",
       "Leyla   1.152902  0.263244         0.196914\n",
       "Nazlı  -0.771239  1.064721         0.980031\n",
       "Selena  0.455752  0.272943        -1.904517"
      ]
     },
     "execution_count": 46,
     "metadata": {},
     "output_type": "execute_result"
    }
   ],
   "source": [
    "yeniDataFrame[yeniDataFrame[\"Yas\"] > 0] # yaşı 0 dan büyük olanları getirir"
   ]
  },
  {
   "cell_type": "code",
   "execution_count": 47,
   "id": "d034c648",
   "metadata": {},
   "outputs": [
    {
     "data": {
      "text/html": [
       "<div>\n",
       "<style scoped>\n",
       "    .dataframe tbody tr th:only-of-type {\n",
       "        vertical-align: middle;\n",
       "    }\n",
       "\n",
       "    .dataframe tbody tr th {\n",
       "        vertical-align: top;\n",
       "    }\n",
       "\n",
       "    .dataframe thead th {\n",
       "        text-align: right;\n",
       "    }\n",
       "</style>\n",
       "<table border=\"1\" class=\"dataframe\">\n",
       "  <thead>\n",
       "    <tr style=\"text-align: right;\">\n",
       "      <th></th>\n",
       "      <th>index</th>\n",
       "      <th>Maas</th>\n",
       "      <th>Yas</th>\n",
       "      <th>CalismaSaatleri</th>\n",
       "    </tr>\n",
       "  </thead>\n",
       "  <tbody>\n",
       "    <tr>\n",
       "      <th>0</th>\n",
       "      <td>Selin</td>\n",
       "      <td>-1.616975</td>\n",
       "      <td>0.569197</td>\n",
       "      <td>0.184871</td>\n",
       "    </tr>\n",
       "    <tr>\n",
       "      <th>1</th>\n",
       "      <td>Leyla</td>\n",
       "      <td>1.152902</td>\n",
       "      <td>0.263244</td>\n",
       "      <td>0.196914</td>\n",
       "    </tr>\n",
       "    <tr>\n",
       "      <th>2</th>\n",
       "      <td>Nazlı</td>\n",
       "      <td>-0.771239</td>\n",
       "      <td>1.064721</td>\n",
       "      <td>0.980031</td>\n",
       "    </tr>\n",
       "    <tr>\n",
       "      <th>3</th>\n",
       "      <td>Selena</td>\n",
       "      <td>0.455752</td>\n",
       "      <td>0.272943</td>\n",
       "      <td>-1.904517</td>\n",
       "    </tr>\n",
       "  </tbody>\n",
       "</table>\n",
       "</div>"
      ],
      "text/plain": [
       "    index      Maas       Yas  CalismaSaatleri\n",
       "0   Selin -1.616975  0.569197         0.184871\n",
       "1   Leyla  1.152902  0.263244         0.196914\n",
       "2   Nazlı -0.771239  1.064721         0.980031\n",
       "3  Selena  0.455752  0.272943        -1.904517"
      ]
     },
     "execution_count": 47,
     "metadata": {},
     "output_type": "execute_result"
    }
   ],
   "source": [
    "yeniDataFrame.reset_index()"
   ]
  },
  {
   "cell_type": "code",
   "execution_count": 48,
   "id": "b4fee1d0",
   "metadata": {},
   "outputs": [
    {
     "data": {
      "text/html": [
       "<div>\n",
       "<style scoped>\n",
       "    .dataframe tbody tr th:only-of-type {\n",
       "        vertical-align: middle;\n",
       "    }\n",
       "\n",
       "    .dataframe tbody tr th {\n",
       "        vertical-align: top;\n",
       "    }\n",
       "\n",
       "    .dataframe thead th {\n",
       "        text-align: right;\n",
       "    }\n",
       "</style>\n",
       "<table border=\"1\" class=\"dataframe\">\n",
       "  <thead>\n",
       "    <tr style=\"text-align: right;\">\n",
       "      <th></th>\n",
       "      <th>Maas</th>\n",
       "      <th>Yas</th>\n",
       "      <th>CalismaSaatleri</th>\n",
       "    </tr>\n",
       "  </thead>\n",
       "  <tbody>\n",
       "    <tr>\n",
       "      <th>Selin</th>\n",
       "      <td>-1.616975</td>\n",
       "      <td>0.569197</td>\n",
       "      <td>0.184871</td>\n",
       "    </tr>\n",
       "    <tr>\n",
       "      <th>Leyla</th>\n",
       "      <td>1.152902</td>\n",
       "      <td>0.263244</td>\n",
       "      <td>0.196914</td>\n",
       "    </tr>\n",
       "    <tr>\n",
       "      <th>Nazlı</th>\n",
       "      <td>-0.771239</td>\n",
       "      <td>1.064721</td>\n",
       "      <td>0.980031</td>\n",
       "    </tr>\n",
       "    <tr>\n",
       "      <th>Selena</th>\n",
       "      <td>0.455752</td>\n",
       "      <td>0.272943</td>\n",
       "      <td>-1.904517</td>\n",
       "    </tr>\n",
       "  </tbody>\n",
       "</table>\n",
       "</div>"
      ],
      "text/plain": [
       "            Maas       Yas  CalismaSaatleri\n",
       "Selin  -1.616975  0.569197         0.184871\n",
       "Leyla   1.152902  0.263244         0.196914\n",
       "Nazlı  -0.771239  1.064721         0.980031\n",
       "Selena  0.455752  0.272943        -1.904517"
      ]
     },
     "execution_count": 48,
     "metadata": {},
     "output_type": "execute_result"
    }
   ],
   "source": [
    "yeniDataFrame"
   ]
  },
  {
   "cell_type": "code",
   "execution_count": 49,
   "id": "cbd3f575",
   "metadata": {},
   "outputs": [],
   "source": [
    "yeniIndeksListesi = [\"Sel\",\"Ley\",\"Naz\",\"Sele\"]"
   ]
  },
  {
   "cell_type": "code",
   "execution_count": 50,
   "id": "04725a36",
   "metadata": {},
   "outputs": [],
   "source": [
    "yeniDataFrame[\"Yeni Indeks\"] = yeniIndeksListesi"
   ]
  },
  {
   "cell_type": "code",
   "execution_count": 51,
   "id": "80e35cce",
   "metadata": {},
   "outputs": [
    {
     "data": {
      "text/html": [
       "<div>\n",
       "<style scoped>\n",
       "    .dataframe tbody tr th:only-of-type {\n",
       "        vertical-align: middle;\n",
       "    }\n",
       "\n",
       "    .dataframe tbody tr th {\n",
       "        vertical-align: top;\n",
       "    }\n",
       "\n",
       "    .dataframe thead th {\n",
       "        text-align: right;\n",
       "    }\n",
       "</style>\n",
       "<table border=\"1\" class=\"dataframe\">\n",
       "  <thead>\n",
       "    <tr style=\"text-align: right;\">\n",
       "      <th></th>\n",
       "      <th>Maas</th>\n",
       "      <th>Yas</th>\n",
       "      <th>CalismaSaatleri</th>\n",
       "      <th>Yeni Indeks</th>\n",
       "    </tr>\n",
       "  </thead>\n",
       "  <tbody>\n",
       "    <tr>\n",
       "      <th>Selin</th>\n",
       "      <td>-1.616975</td>\n",
       "      <td>0.569197</td>\n",
       "      <td>0.184871</td>\n",
       "      <td>Sel</td>\n",
       "    </tr>\n",
       "    <tr>\n",
       "      <th>Leyla</th>\n",
       "      <td>1.152902</td>\n",
       "      <td>0.263244</td>\n",
       "      <td>0.196914</td>\n",
       "      <td>Ley</td>\n",
       "    </tr>\n",
       "    <tr>\n",
       "      <th>Nazlı</th>\n",
       "      <td>-0.771239</td>\n",
       "      <td>1.064721</td>\n",
       "      <td>0.980031</td>\n",
       "      <td>Naz</td>\n",
       "    </tr>\n",
       "    <tr>\n",
       "      <th>Selena</th>\n",
       "      <td>0.455752</td>\n",
       "      <td>0.272943</td>\n",
       "      <td>-1.904517</td>\n",
       "      <td>Sele</td>\n",
       "    </tr>\n",
       "  </tbody>\n",
       "</table>\n",
       "</div>"
      ],
      "text/plain": [
       "            Maas       Yas  CalismaSaatleri Yeni Indeks\n",
       "Selin  -1.616975  0.569197         0.184871         Sel\n",
       "Leyla   1.152902  0.263244         0.196914         Ley\n",
       "Nazlı  -0.771239  1.064721         0.980031         Naz\n",
       "Selena  0.455752  0.272943        -1.904517        Sele"
      ]
     },
     "execution_count": 51,
     "metadata": {},
     "output_type": "execute_result"
    }
   ],
   "source": [
    "yeniDataFrame"
   ]
  },
  {
   "cell_type": "code",
   "execution_count": 52,
   "id": "a3caf6f7",
   "metadata": {},
   "outputs": [
    {
     "data": {
      "text/html": [
       "<div>\n",
       "<style scoped>\n",
       "    .dataframe tbody tr th:only-of-type {\n",
       "        vertical-align: middle;\n",
       "    }\n",
       "\n",
       "    .dataframe tbody tr th {\n",
       "        vertical-align: top;\n",
       "    }\n",
       "\n",
       "    .dataframe thead th {\n",
       "        text-align: right;\n",
       "    }\n",
       "</style>\n",
       "<table border=\"1\" class=\"dataframe\">\n",
       "  <thead>\n",
       "    <tr style=\"text-align: right;\">\n",
       "      <th></th>\n",
       "      <th>Maas</th>\n",
       "      <th>Yas</th>\n",
       "      <th>CalismaSaatleri</th>\n",
       "    </tr>\n",
       "    <tr>\n",
       "      <th>Yeni Indeks</th>\n",
       "      <th></th>\n",
       "      <th></th>\n",
       "      <th></th>\n",
       "    </tr>\n",
       "  </thead>\n",
       "  <tbody>\n",
       "    <tr>\n",
       "      <th>Sel</th>\n",
       "      <td>-1.616975</td>\n",
       "      <td>0.569197</td>\n",
       "      <td>0.184871</td>\n",
       "    </tr>\n",
       "    <tr>\n",
       "      <th>Ley</th>\n",
       "      <td>1.152902</td>\n",
       "      <td>0.263244</td>\n",
       "      <td>0.196914</td>\n",
       "    </tr>\n",
       "    <tr>\n",
       "      <th>Naz</th>\n",
       "      <td>-0.771239</td>\n",
       "      <td>1.064721</td>\n",
       "      <td>0.980031</td>\n",
       "    </tr>\n",
       "    <tr>\n",
       "      <th>Sele</th>\n",
       "      <td>0.455752</td>\n",
       "      <td>0.272943</td>\n",
       "      <td>-1.904517</td>\n",
       "    </tr>\n",
       "  </tbody>\n",
       "</table>\n",
       "</div>"
      ],
      "text/plain": [
       "                 Maas       Yas  CalismaSaatleri\n",
       "Yeni Indeks                                     \n",
       "Sel         -1.616975  0.569197         0.184871\n",
       "Ley          1.152902  0.263244         0.196914\n",
       "Naz         -0.771239  1.064721         0.980031\n",
       "Sele         0.455752  0.272943        -1.904517"
      ]
     },
     "execution_count": 52,
     "metadata": {},
     "output_type": "execute_result"
    }
   ],
   "source": [
    "yeniDataFrame.set_index(\"Yeni Indeks\")"
   ]
  },
  {
   "cell_type": "code",
   "execution_count": 53,
   "id": "713f77ba",
   "metadata": {},
   "outputs": [
    {
     "data": {
      "text/html": [
       "<div>\n",
       "<style scoped>\n",
       "    .dataframe tbody tr th:only-of-type {\n",
       "        vertical-align: middle;\n",
       "    }\n",
       "\n",
       "    .dataframe tbody tr th {\n",
       "        vertical-align: top;\n",
       "    }\n",
       "\n",
       "    .dataframe thead th {\n",
       "        text-align: right;\n",
       "    }\n",
       "</style>\n",
       "<table border=\"1\" class=\"dataframe\">\n",
       "  <thead>\n",
       "    <tr style=\"text-align: right;\">\n",
       "      <th></th>\n",
       "      <th>Maas</th>\n",
       "      <th>Yas</th>\n",
       "      <th>CalismaSaatleri</th>\n",
       "      <th>Yeni Indeks</th>\n",
       "    </tr>\n",
       "  </thead>\n",
       "  <tbody>\n",
       "    <tr>\n",
       "      <th>Selin</th>\n",
       "      <td>-1.616975</td>\n",
       "      <td>0.569197</td>\n",
       "      <td>0.184871</td>\n",
       "      <td>Sel</td>\n",
       "    </tr>\n",
       "    <tr>\n",
       "      <th>Leyla</th>\n",
       "      <td>1.152902</td>\n",
       "      <td>0.263244</td>\n",
       "      <td>0.196914</td>\n",
       "      <td>Ley</td>\n",
       "    </tr>\n",
       "    <tr>\n",
       "      <th>Nazlı</th>\n",
       "      <td>-0.771239</td>\n",
       "      <td>1.064721</td>\n",
       "      <td>0.980031</td>\n",
       "      <td>Naz</td>\n",
       "    </tr>\n",
       "    <tr>\n",
       "      <th>Selena</th>\n",
       "      <td>0.455752</td>\n",
       "      <td>0.272943</td>\n",
       "      <td>-1.904517</td>\n",
       "      <td>Sele</td>\n",
       "    </tr>\n",
       "  </tbody>\n",
       "</table>\n",
       "</div>"
      ],
      "text/plain": [
       "            Maas       Yas  CalismaSaatleri Yeni Indeks\n",
       "Selin  -1.616975  0.569197         0.184871         Sel\n",
       "Leyla   1.152902  0.263244         0.196914         Ley\n",
       "Nazlı  -0.771239  1.064721         0.980031         Naz\n",
       "Selena  0.455752  0.272943        -1.904517        Sele"
      ]
     },
     "execution_count": 53,
     "metadata": {},
     "output_type": "execute_result"
    }
   ],
   "source": [
    "yeniDataFrame"
   ]
  },
  {
   "cell_type": "code",
   "execution_count": 54,
   "id": "0ae962c5",
   "metadata": {},
   "outputs": [],
   "source": [
    "yeniDataFrame.set_index(\"Yeni Indeks\",inplace = True)"
   ]
  },
  {
   "cell_type": "code",
   "execution_count": 55,
   "id": "df89cda5",
   "metadata": {},
   "outputs": [
    {
     "data": {
      "text/html": [
       "<div>\n",
       "<style scoped>\n",
       "    .dataframe tbody tr th:only-of-type {\n",
       "        vertical-align: middle;\n",
       "    }\n",
       "\n",
       "    .dataframe tbody tr th {\n",
       "        vertical-align: top;\n",
       "    }\n",
       "\n",
       "    .dataframe thead th {\n",
       "        text-align: right;\n",
       "    }\n",
       "</style>\n",
       "<table border=\"1\" class=\"dataframe\">\n",
       "  <thead>\n",
       "    <tr style=\"text-align: right;\">\n",
       "      <th></th>\n",
       "      <th>Maas</th>\n",
       "      <th>Yas</th>\n",
       "      <th>CalismaSaatleri</th>\n",
       "    </tr>\n",
       "    <tr>\n",
       "      <th>Yeni Indeks</th>\n",
       "      <th></th>\n",
       "      <th></th>\n",
       "      <th></th>\n",
       "    </tr>\n",
       "  </thead>\n",
       "  <tbody>\n",
       "    <tr>\n",
       "      <th>Sel</th>\n",
       "      <td>-1.616975</td>\n",
       "      <td>0.569197</td>\n",
       "      <td>0.184871</td>\n",
       "    </tr>\n",
       "    <tr>\n",
       "      <th>Ley</th>\n",
       "      <td>1.152902</td>\n",
       "      <td>0.263244</td>\n",
       "      <td>0.196914</td>\n",
       "    </tr>\n",
       "    <tr>\n",
       "      <th>Naz</th>\n",
       "      <td>-0.771239</td>\n",
       "      <td>1.064721</td>\n",
       "      <td>0.980031</td>\n",
       "    </tr>\n",
       "    <tr>\n",
       "      <th>Sele</th>\n",
       "      <td>0.455752</td>\n",
       "      <td>0.272943</td>\n",
       "      <td>-1.904517</td>\n",
       "    </tr>\n",
       "  </tbody>\n",
       "</table>\n",
       "</div>"
      ],
      "text/plain": [
       "                 Maas       Yas  CalismaSaatleri\n",
       "Yeni Indeks                                     \n",
       "Sel         -1.616975  0.569197         0.184871\n",
       "Ley          1.152902  0.263244         0.196914\n",
       "Naz         -0.771239  1.064721         0.980031\n",
       "Sele         0.455752  0.272943        -1.904517"
      ]
     },
     "execution_count": 55,
     "metadata": {},
     "output_type": "execute_result"
    }
   ],
   "source": [
    "yeniDataFrame"
   ]
  },
  {
   "cell_type": "code",
   "execution_count": 56,
   "id": "bdacbd1f",
   "metadata": {},
   "outputs": [
    {
     "data": {
      "text/plain": [
       "Maas              -1.616975\n",
       "Yas                0.569197\n",
       "CalismaSaatleri    0.184871\n",
       "Name: Sel, dtype: float64"
      ]
     },
     "execution_count": 56,
     "metadata": {},
     "output_type": "execute_result"
    }
   ],
   "source": [
    "yeniDataFrame.loc[\"Sel\"]"
   ]
  },
  {
   "cell_type": "code",
   "execution_count": 57,
   "id": "45a372ee",
   "metadata": {},
   "outputs": [],
   "source": [
    "ilkIndeksler = [\"Simpson\",\"Simpson\",\"Simpson\",\"South Park\",\"South Park\",\"South Park\"]"
   ]
  },
  {
   "cell_type": "code",
   "execution_count": 58,
   "id": "0a85aa7f",
   "metadata": {},
   "outputs": [],
   "source": [
    "icIndeksler = [\"Homer\",\"Bart\",\"Marge\",\"Cartman\",\"Kenny\",\"Kyle\"]"
   ]
  },
  {
   "cell_type": "code",
   "execution_count": 59,
   "id": "9b78f553",
   "metadata": {},
   "outputs": [],
   "source": [
    "birlesmisIndeks = list(zip(ilkIndeksler,icIndeksler))"
   ]
  },
  {
   "cell_type": "code",
   "execution_count": 60,
   "id": "d07c1e47",
   "metadata": {},
   "outputs": [
    {
     "data": {
      "text/plain": [
       "[('Simpson', 'Homer'),\n",
       " ('Simpson', 'Bart'),\n",
       " ('Simpson', 'Marge'),\n",
       " ('South Park', 'Cartman'),\n",
       " ('South Park', 'Kenny'),\n",
       " ('South Park', 'Kyle')]"
      ]
     },
     "execution_count": 60,
     "metadata": {},
     "output_type": "execute_result"
    }
   ],
   "source": [
    "birlesmisIndeks"
   ]
  },
  {
   "cell_type": "code",
   "execution_count": 61,
   "id": "0c243de0",
   "metadata": {},
   "outputs": [],
   "source": [
    "birlesmisIndeks = pd.MultiIndex.from_tuples(birlesmisIndeks)"
   ]
  },
  {
   "cell_type": "code",
   "execution_count": 62,
   "id": "48a82f31",
   "metadata": {},
   "outputs": [
    {
     "data": {
      "text/plain": [
       "MultiIndex([(   'Simpson',   'Homer'),\n",
       "            (   'Simpson',    'Bart'),\n",
       "            (   'Simpson',   'Marge'),\n",
       "            ('South Park', 'Cartman'),\n",
       "            ('South Park',   'Kenny'),\n",
       "            ('South Park',    'Kyle')],\n",
       "           )"
      ]
     },
     "execution_count": 62,
     "metadata": {},
     "output_type": "execute_result"
    }
   ],
   "source": [
    "birlesmisIndeks"
   ]
  },
  {
   "cell_type": "code",
   "execution_count": 63,
   "id": "fe37a1c4",
   "metadata": {},
   "outputs": [],
   "source": [
    "benimCizgiFİlmListem = [[40,\"A\"],[10,\"B\"],[30,\"C\"],[9,\"D\"],[10,\"E\"],[11,\"F\"]]"
   ]
  },
  {
   "cell_type": "code",
   "execution_count": 64,
   "id": "f46e8d17",
   "metadata": {},
   "outputs": [],
   "source": [
    "cizgiFilmNumpyDizisi = np.array(benimCizgiFİlmListem)"
   ]
  },
  {
   "cell_type": "code",
   "execution_count": 65,
   "id": "cce544f6",
   "metadata": {},
   "outputs": [],
   "source": [
    "cizgiFilmDataFrame = pd.DataFrame(cizgiFilmNumpyDizisi,index=birlesmisIndeks,columns=[\"Yas\",\"Meslek\"])"
   ]
  },
  {
   "cell_type": "code",
   "execution_count": 66,
   "id": "ac76408c",
   "metadata": {},
   "outputs": [
    {
     "data": {
      "text/html": [
       "<div>\n",
       "<style scoped>\n",
       "    .dataframe tbody tr th:only-of-type {\n",
       "        vertical-align: middle;\n",
       "    }\n",
       "\n",
       "    .dataframe tbody tr th {\n",
       "        vertical-align: top;\n",
       "    }\n",
       "\n",
       "    .dataframe thead th {\n",
       "        text-align: right;\n",
       "    }\n",
       "</style>\n",
       "<table border=\"1\" class=\"dataframe\">\n",
       "  <thead>\n",
       "    <tr style=\"text-align: right;\">\n",
       "      <th></th>\n",
       "      <th></th>\n",
       "      <th>Yas</th>\n",
       "      <th>Meslek</th>\n",
       "    </tr>\n",
       "  </thead>\n",
       "  <tbody>\n",
       "    <tr>\n",
       "      <th rowspan=\"3\" valign=\"top\">Simpson</th>\n",
       "      <th>Homer</th>\n",
       "      <td>40</td>\n",
       "      <td>A</td>\n",
       "    </tr>\n",
       "    <tr>\n",
       "      <th>Bart</th>\n",
       "      <td>10</td>\n",
       "      <td>B</td>\n",
       "    </tr>\n",
       "    <tr>\n",
       "      <th>Marge</th>\n",
       "      <td>30</td>\n",
       "      <td>C</td>\n",
       "    </tr>\n",
       "    <tr>\n",
       "      <th rowspan=\"3\" valign=\"top\">South Park</th>\n",
       "      <th>Cartman</th>\n",
       "      <td>9</td>\n",
       "      <td>D</td>\n",
       "    </tr>\n",
       "    <tr>\n",
       "      <th>Kenny</th>\n",
       "      <td>10</td>\n",
       "      <td>E</td>\n",
       "    </tr>\n",
       "    <tr>\n",
       "      <th>Kyle</th>\n",
       "      <td>11</td>\n",
       "      <td>F</td>\n",
       "    </tr>\n",
       "  </tbody>\n",
       "</table>\n",
       "</div>"
      ],
      "text/plain": [
       "                   Yas Meslek\n",
       "Simpson    Homer    40      A\n",
       "           Bart     10      B\n",
       "           Marge    30      C\n",
       "South Park Cartman   9      D\n",
       "           Kenny    10      E\n",
       "           Kyle     11      F"
      ]
     },
     "execution_count": 66,
     "metadata": {},
     "output_type": "execute_result"
    }
   ],
   "source": [
    "cizgiFilmDataFrame"
   ]
  },
  {
   "cell_type": "code",
   "execution_count": 67,
   "id": "ea9553a9",
   "metadata": {},
   "outputs": [
    {
     "data": {
      "text/html": [
       "<div>\n",
       "<style scoped>\n",
       "    .dataframe tbody tr th:only-of-type {\n",
       "        vertical-align: middle;\n",
       "    }\n",
       "\n",
       "    .dataframe tbody tr th {\n",
       "        vertical-align: top;\n",
       "    }\n",
       "\n",
       "    .dataframe thead th {\n",
       "        text-align: right;\n",
       "    }\n",
       "</style>\n",
       "<table border=\"1\" class=\"dataframe\">\n",
       "  <thead>\n",
       "    <tr style=\"text-align: right;\">\n",
       "      <th></th>\n",
       "      <th>Yas</th>\n",
       "      <th>Meslek</th>\n",
       "    </tr>\n",
       "  </thead>\n",
       "  <tbody>\n",
       "    <tr>\n",
       "      <th>Homer</th>\n",
       "      <td>40</td>\n",
       "      <td>A</td>\n",
       "    </tr>\n",
       "    <tr>\n",
       "      <th>Bart</th>\n",
       "      <td>10</td>\n",
       "      <td>B</td>\n",
       "    </tr>\n",
       "    <tr>\n",
       "      <th>Marge</th>\n",
       "      <td>30</td>\n",
       "      <td>C</td>\n",
       "    </tr>\n",
       "  </tbody>\n",
       "</table>\n",
       "</div>"
      ],
      "text/plain": [
       "      Yas Meslek\n",
       "Homer  40      A\n",
       "Bart   10      B\n",
       "Marge  30      C"
      ]
     },
     "execution_count": 67,
     "metadata": {},
     "output_type": "execute_result"
    }
   ],
   "source": [
    "cizgiFilmDataFrame.loc[\"Simpson\"]"
   ]
  },
  {
   "cell_type": "code",
   "execution_count": 69,
   "id": "4211784a",
   "metadata": {},
   "outputs": [
    {
     "data": {
      "text/plain": [
       "Yas       10\n",
       "Meslek     E\n",
       "Name: Kenny, dtype: object"
      ]
     },
     "execution_count": 69,
     "metadata": {},
     "output_type": "execute_result"
    }
   ],
   "source": [
    "cizgiFilmDataFrame.loc[\"South Park\"].loc[\"Kenny\"]"
   ]
  },
  {
   "cell_type": "code",
   "execution_count": 70,
   "id": "3068284b",
   "metadata": {},
   "outputs": [],
   "source": [
    "cizgiFilmDataFrame.index.names = [\"Film Adı\",\"İsim\"]"
   ]
  },
  {
   "cell_type": "code",
   "execution_count": 71,
   "id": "e49730f1",
   "metadata": {},
   "outputs": [
    {
     "data": {
      "text/html": [
       "<div>\n",
       "<style scoped>\n",
       "    .dataframe tbody tr th:only-of-type {\n",
       "        vertical-align: middle;\n",
       "    }\n",
       "\n",
       "    .dataframe tbody tr th {\n",
       "        vertical-align: top;\n",
       "    }\n",
       "\n",
       "    .dataframe thead th {\n",
       "        text-align: right;\n",
       "    }\n",
       "</style>\n",
       "<table border=\"1\" class=\"dataframe\">\n",
       "  <thead>\n",
       "    <tr style=\"text-align: right;\">\n",
       "      <th></th>\n",
       "      <th></th>\n",
       "      <th>Yas</th>\n",
       "      <th>Meslek</th>\n",
       "    </tr>\n",
       "    <tr>\n",
       "      <th>Film Adı</th>\n",
       "      <th>İsim</th>\n",
       "      <th></th>\n",
       "      <th></th>\n",
       "    </tr>\n",
       "  </thead>\n",
       "  <tbody>\n",
       "    <tr>\n",
       "      <th rowspan=\"3\" valign=\"top\">Simpson</th>\n",
       "      <th>Homer</th>\n",
       "      <td>40</td>\n",
       "      <td>A</td>\n",
       "    </tr>\n",
       "    <tr>\n",
       "      <th>Bart</th>\n",
       "      <td>10</td>\n",
       "      <td>B</td>\n",
       "    </tr>\n",
       "    <tr>\n",
       "      <th>Marge</th>\n",
       "      <td>30</td>\n",
       "      <td>C</td>\n",
       "    </tr>\n",
       "    <tr>\n",
       "      <th rowspan=\"3\" valign=\"top\">South Park</th>\n",
       "      <th>Cartman</th>\n",
       "      <td>9</td>\n",
       "      <td>D</td>\n",
       "    </tr>\n",
       "    <tr>\n",
       "      <th>Kenny</th>\n",
       "      <td>10</td>\n",
       "      <td>E</td>\n",
       "    </tr>\n",
       "    <tr>\n",
       "      <th>Kyle</th>\n",
       "      <td>11</td>\n",
       "      <td>F</td>\n",
       "    </tr>\n",
       "  </tbody>\n",
       "</table>\n",
       "</div>"
      ],
      "text/plain": [
       "                   Yas Meslek\n",
       "Film Adı   İsim              \n",
       "Simpson    Homer    40      A\n",
       "           Bart     10      B\n",
       "           Marge    30      C\n",
       "South Park Cartman   9      D\n",
       "           Kenny    10      E\n",
       "           Kyle     11      F"
      ]
     },
     "execution_count": 71,
     "metadata": {},
     "output_type": "execute_result"
    }
   ],
   "source": [
    "cizgiFilmDataFrame"
   ]
  },
  {
   "cell_type": "code",
   "execution_count": null,
   "id": "5732c827",
   "metadata": {},
   "outputs": [],
   "source": []
  }
 ],
 "metadata": {
  "kernelspec": {
   "display_name": "Python 3 (ipykernel)",
   "language": "python",
   "name": "python3"
  },
  "language_info": {
   "codemirror_mode": {
    "name": "ipython",
    "version": 3
   },
   "file_extension": ".py",
   "mimetype": "text/x-python",
   "name": "python",
   "nbconvert_exporter": "python",
   "pygments_lexer": "ipython3",
   "version": "3.11.4"
  }
 },
 "nbformat": 4,
 "nbformat_minor": 5
}
