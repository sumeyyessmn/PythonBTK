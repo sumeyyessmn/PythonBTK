{
 "cells": [
  {
   "cell_type": "code",
   "execution_count": 3,
   "id": "ce3f863a",
   "metadata": {},
   "outputs": [],
   "source": [
    "x = 0"
   ]
  },
  {
   "cell_type": "code",
   "execution_count": 4,
   "id": "96df1329",
   "metadata": {},
   "outputs": [
    {
     "name": "stdout",
     "output_type": "stream",
     "text": [
      "0\n",
      "1\n",
      "2\n",
      "3\n",
      "4\n",
      "5\n",
      "6\n",
      "7\n",
      "8\n",
      "9\n"
     ]
    }
   ],
   "source": [
    "while x < 10:\n",
    "    print(x)\n",
    "    x += 1"
   ]
  },
  {
   "cell_type": "code",
   "execution_count": 5,
   "id": "0cd978da",
   "metadata": {},
   "outputs": [],
   "source": [
    "benimListem = [1,2,3,4,5]"
   ]
  },
  {
   "cell_type": "code",
   "execution_count": 7,
   "id": "e22d80f3",
   "metadata": {},
   "outputs": [
    {
     "data": {
      "text/plain": [
       "4"
      ]
     },
     "execution_count": 7,
     "metadata": {},
     "output_type": "execute_result"
    }
   ],
   "source": [
    "benimListem.pop()"
   ]
  },
  {
   "cell_type": "code",
   "execution_count": 8,
   "id": "699aadcf",
   "metadata": {},
   "outputs": [],
   "source": [
    "benimListem.append(4)"
   ]
  },
  {
   "cell_type": "code",
   "execution_count": 9,
   "id": "622b592c",
   "metadata": {},
   "outputs": [
    {
     "data": {
      "text/plain": [
       "[1, 2, 3, 4]"
      ]
     },
     "execution_count": 9,
     "metadata": {},
     "output_type": "execute_result"
    }
   ],
   "source": [
    "benimListem"
   ]
  },
  {
   "cell_type": "code",
   "execution_count": 10,
   "id": "a867bf33",
   "metadata": {},
   "outputs": [],
   "source": [
    "benimListem.append(5)"
   ]
  },
  {
   "cell_type": "code",
   "execution_count": 11,
   "id": "34a73164",
   "metadata": {},
   "outputs": [
    {
     "data": {
      "text/plain": [
       "[1, 2, 3, 4, 5]"
      ]
     },
     "execution_count": 11,
     "metadata": {},
     "output_type": "execute_result"
    }
   ],
   "source": [
    "benimListem"
   ]
  },
  {
   "cell_type": "code",
   "execution_count": 12,
   "id": "792a386a",
   "metadata": {},
   "outputs": [
    {
     "name": "stdout",
     "output_type": "stream",
     "text": [
      "3 hala listenin içinde\n",
      "5\n",
      "3 hala listenin içinde\n",
      "4\n",
      "3 hala listenin içinde\n",
      "3\n"
     ]
    }
   ],
   "source": [
    "while 3 in benimListem:\n",
    "    print(\"3 hala listenin içinde\")\n",
    "    eleman = benimListem.pop()\n",
    "    print(eleman)"
   ]
  },
  {
   "cell_type": "code",
   "execution_count": 13,
   "id": "23eaa41e",
   "metadata": {},
   "outputs": [],
   "source": [
    "numara = 0"
   ]
  },
  {
   "cell_type": "code",
   "execution_count": 14,
   "id": "7be73219",
   "metadata": {},
   "outputs": [
    {
     "name": "stdout",
     "output_type": "stream",
     "text": [
      "0\n",
      "1\n",
      "2\n",
      "3\n"
     ]
    }
   ],
   "source": [
    "while numara < 5:\n",
    "    if numara == 4:\n",
    "        break\n",
    "    print(numara)\n",
    "    numara += 1"
   ]
  },
  {
   "cell_type": "code",
   "execution_count": 20,
   "id": "e261527e",
   "metadata": {},
   "outputs": [
    {
     "name": "stdout",
     "output_type": "stream",
     "text": [
      "yeniDegisken'in güncel değeri: 0\n",
      "yeniDegisken'in güncel değeri: 1\n",
      "yeniDegisken'in güncel değeri: 2\n",
      "yeniDegisken'in güncel değeri: 3\n",
      "yeniDegisken'in güncel değeri: 4\n",
      "yeniDegisken'in güncel değeri: 5\n",
      "yeniDegisken'in güncel değeri: 6\n",
      "yeniDegisken'in güncel değeri: 7\n",
      "yeniDegisken'in güncel değeri: 8\n",
      "yeniDegisken'in güncel değeri: 9\n",
      "yeniDegisken'in güncel değeri: 10\n",
      "yeniDegisken'in güncel değeri: 11\n",
      "yeniDegisken'in güncel değeri: 12\n",
      "yeniDegisken'in güncel değeri: 13\n",
      "yeniDegisken'in güncel değeri: 14\n"
     ]
    }
   ],
   "source": [
    "yeniDegisken = 0\n",
    "while yeniDegisken < 15:\n",
    "    #print(\"yeniDegisken'in güncel değeri: \",yeniDegisken)\n",
    "    #print(\"yeniDegisken'in güncel değeri: \"+str(yeniDegisken))\n",
    "    print(f\"yeniDegisken'in güncel değeri: {yeniDegisken}\")\n",
    "    # f : formatlamak demek\n",
    "    yeniDegisken += 1"
   ]
  },
  {
   "cell_type": "code",
   "execution_count": null,
   "id": "d967fd0e",
   "metadata": {},
   "outputs": [],
   "source": [
    "\n",
    "    "
   ]
  },
  {
   "cell_type": "code",
   "execution_count": null,
   "id": "4b5b8973",
   "metadata": {},
   "outputs": [],
   "source": []
  }
 ],
 "metadata": {
  "kernelspec": {
   "display_name": "Python 3 (ipykernel)",
   "language": "python",
   "name": "python3"
  },
  "language_info": {
   "codemirror_mode": {
    "name": "ipython",
    "version": 3
   },
   "file_extension": ".py",
   "mimetype": "text/x-python",
   "name": "python",
   "nbconvert_exporter": "python",
   "pygments_lexer": "ipython3",
   "version": "3.11.4"
  }
 },
 "nbformat": 4,
 "nbformat_minor": 5
}
