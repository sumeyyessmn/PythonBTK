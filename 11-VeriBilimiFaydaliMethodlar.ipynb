{
 "cells": [
  {
   "cell_type": "markdown",
   "id": "c99da86b",
   "metadata": {},
   "source": [
    "## range"
   ]
  },
  {
   "cell_type": "code",
   "execution_count": 1,
   "id": "183d83bc",
   "metadata": {},
   "outputs": [],
   "source": [
    "#kapsam, genişlik demek"
   ]
  },
  {
   "cell_type": "code",
   "execution_count": 4,
   "id": "8da6c37b",
   "metadata": {},
   "outputs": [
    {
     "data": {
      "text/plain": [
       "[0, 1, 2, 3]"
      ]
     },
     "execution_count": 4,
     "metadata": {},
     "output_type": "execute_result"
    }
   ],
   "source": [
    "list(range(4)) #shift+tab"
   ]
  },
  {
   "cell_type": "code",
   "execution_count": 6,
   "id": "82d21e17",
   "metadata": {},
   "outputs": [
    {
     "name": "stdout",
     "output_type": "stream",
     "text": [
      "0\n",
      "1\n",
      "2\n",
      "3\n",
      "4\n",
      "5\n",
      "6\n",
      "7\n"
     ]
    }
   ],
   "source": [
    "for numara in list(range(8)):\n",
    "    print(numara)"
   ]
  },
  {
   "cell_type": "code",
   "execution_count": 7,
   "id": "767d80bd",
   "metadata": {},
   "outputs": [
    {
     "data": {
      "text/plain": [
       "[2, 5, 8, 11, 14, 17, 20]"
      ]
     },
     "execution_count": 7,
     "metadata": {},
     "output_type": "execute_result"
    }
   ],
   "source": [
    "list(range(2,21,3)) ##2 den başla 3er 3er git ve 21de dur"
   ]
  },
  {
   "cell_type": "markdown",
   "id": "608fea63",
   "metadata": {},
   "source": [
    "## enumerate"
   ]
  },
  {
   "cell_type": "code",
   "execution_count": 9,
   "id": "2e94667d",
   "metadata": {},
   "outputs": [
    {
     "name": "stdout",
     "output_type": "stream",
     "text": [
      "Güncel numara : 2 güncel index: 0\n",
      "Güncel numara : 3 güncel index: 1\n",
      "Güncel numara : 4 güncel index: 2\n",
      "Güncel numara : 5 güncel index: 3\n",
      "Güncel numara : 6 güncel index: 4\n",
      "Güncel numara : 7 güncel index: 5\n",
      "Güncel numara : 8 güncel index: 6\n",
      "Güncel numara : 9 güncel index: 7\n",
      "Güncel numara : 10 güncel index: 8\n",
      "Güncel numara : 11 güncel index: 9\n",
      "Güncel numara : 12 güncel index: 10\n",
      "Güncel numara : 13 güncel index: 11\n",
      "Güncel numara : 14 güncel index: 12\n"
     ]
    }
   ],
   "source": [
    "index = 0\n",
    "for numara in list(range(2,15)):\n",
    "    print(f\"Güncel numara : {numara} güncel index: {index}\")\n",
    "    index += 1"
   ]
  },
  {
   "cell_type": "code",
   "execution_count": 10,
   "id": "6a1223af",
   "metadata": {},
   "outputs": [
    {
     "name": "stdout",
     "output_type": "stream",
     "text": [
      "(0, 5)\n",
      "(1, 6)\n",
      "(2, 7)\n",
      "(3, 8)\n",
      "(4, 9)\n",
      "(5, 10)\n",
      "(6, 11)\n",
      "(7, 12)\n",
      "(8, 13)\n",
      "(9, 14)\n"
     ]
    }
   ],
   "source": [
    "for eleman in enumerate(list(range(5,15))):\n",
    "    print(eleman)"
   ]
  },
  {
   "cell_type": "code",
   "execution_count": 13,
   "id": "f35c28fa",
   "metadata": {},
   "outputs": [
    {
     "name": "stdout",
     "output_type": "stream",
     "text": [
      "0\n",
      "1\n",
      "2\n",
      "3\n",
      "4\n",
      "5\n",
      "6\n",
      "7\n",
      "8\n",
      "9\n"
     ]
    }
   ],
   "source": [
    "for (index,numara) in enumerate(list(range(5,15))):\n",
    "    print(index)"
   ]
  },
  {
   "cell_type": "markdown",
   "id": "172de0ed",
   "metadata": {},
   "source": [
    "## random"
   ]
  },
  {
   "cell_type": "code",
   "execution_count": 16,
   "id": "46697a7b",
   "metadata": {},
   "outputs": [],
   "source": [
    "from random import randint #random kütüphanesini dahil ettik"
   ]
  },
  {
   "cell_type": "code",
   "execution_count": 18,
   "id": "ce9a4377",
   "metadata": {},
   "outputs": [
    {
     "data": {
      "text/plain": [
       "3"
      ]
     },
     "execution_count": 18,
     "metadata": {},
     "output_type": "execute_result"
    }
   ],
   "source": [
    "randint(0,12) #0 ile 12 arasında rastgele sayı döndürüyor"
   ]
  },
  {
   "cell_type": "code",
   "execution_count": 24,
   "id": "601d0ed5",
   "metadata": {},
   "outputs": [
    {
     "data": {
      "text/plain": [
       "12"
      ]
     },
     "execution_count": 24,
     "metadata": {},
     "output_type": "execute_result"
    }
   ],
   "source": [
    "randint(0,12)"
   ]
  },
  {
   "cell_type": "code",
   "execution_count": 22,
   "id": "08cac839",
   "metadata": {},
   "outputs": [
    {
     "data": {
      "text/plain": [
       "10"
      ]
     },
     "execution_count": 22,
     "metadata": {},
     "output_type": "execute_result"
    }
   ],
   "source": [
    "randint(0,12)\n"
   ]
  },
  {
   "cell_type": "code",
   "execution_count": 25,
   "id": "0bec01c5",
   "metadata": {},
   "outputs": [],
   "source": [
    "yeniListe = list(range(0,13))"
   ]
  },
  {
   "cell_type": "code",
   "execution_count": 29,
   "id": "5faf2fc0",
   "metadata": {},
   "outputs": [
    {
     "data": {
      "text/plain": [
       "11"
      ]
     },
     "execution_count": 29,
     "metadata": {},
     "output_type": "execute_result"
    }
   ],
   "source": [
    "yeniListe[randint(0,12)]"
   ]
  },
  {
   "cell_type": "code",
   "execution_count": 2,
   "id": "1fb4a0d6",
   "metadata": {},
   "outputs": [],
   "source": [
    "from random import shuffle"
   ]
  },
  {
   "cell_type": "code",
   "execution_count": 31,
   "id": "a07cae5e",
   "metadata": {},
   "outputs": [],
   "source": [
    "shuffle(yeniListe)"
   ]
  },
  {
   "cell_type": "code",
   "execution_count": 32,
   "id": "f0cff906",
   "metadata": {},
   "outputs": [
    {
     "data": {
      "text/plain": [
       "[5, 3, 4, 9, 12, 0, 1, 11, 2, 10, 7, 6, 8]"
      ]
     },
     "execution_count": 32,
     "metadata": {},
     "output_type": "execute_result"
    }
   ],
   "source": [
    "yeniListe"
   ]
  },
  {
   "cell_type": "markdown",
   "id": "5e040df3",
   "metadata": {},
   "source": [
    "## zip"
   ]
  },
  {
   "cell_type": "code",
   "execution_count": 1,
   "id": "fa169381",
   "metadata": {},
   "outputs": [],
   "source": [
    "yemekListesi = [\"muz\",\"ananas\",\"elma\"]\n",
    "kaloriListesi = [100,200,300]\n",
    "gunListesi = [\"pazartesi\",\"salı\",\"çarşamba\"]"
   ]
  },
  {
   "cell_type": "code",
   "execution_count": 4,
   "id": "eea18588",
   "metadata": {},
   "outputs": [],
   "source": [
    "ziplenmisListe = list(zip(yemekListesi,kaloriListesi,gunListesi))"
   ]
  },
  {
   "cell_type": "code",
   "execution_count": 5,
   "id": "0e02febd",
   "metadata": {},
   "outputs": [
    {
     "name": "stdout",
     "output_type": "stream",
     "text": [
      "('muz', 100, 'pazartesi')\n",
      "('ananas', 200, 'salı')\n",
      "('elma', 300, 'çarşamba')\n"
     ]
    }
   ],
   "source": [
    "for eleman in ziplenmisListe:\n",
    "    print(eleman)"
   ]
  },
  {
   "cell_type": "markdown",
   "id": "50d62c31",
   "metadata": {},
   "source": [
    "## listeler ileri seviye"
   ]
  },
  {
   "cell_type": "code",
   "execution_count": 7,
   "id": "2396c799",
   "metadata": {},
   "outputs": [],
   "source": [
    "listeOrnegi = []\n",
    "benimString = \"sumeyye sisman\"\n",
    "for harf in benimString:\n",
    "    listeOrnegi.append(harf)"
   ]
  },
  {
   "cell_type": "code",
   "execution_count": 8,
   "id": "bb0b3a08",
   "metadata": {},
   "outputs": [
    {
     "data": {
      "text/plain": [
       "['s', 'u', 'm', 'e', 'y', 'y', 'e', ' ', 's', 'i', 's', 'm', 'a', 'n']"
      ]
     },
     "execution_count": 8,
     "metadata": {},
     "output_type": "execute_result"
    }
   ],
   "source": [
    "listeOrnegi"
   ]
  },
  {
   "cell_type": "code",
   "execution_count": 9,
   "id": "a5397164",
   "metadata": {},
   "outputs": [],
   "source": [
    "yeniString =\"sumeyye sisman\""
   ]
  },
  {
   "cell_type": "code",
   "execution_count": 10,
   "id": "2d6e032c",
   "metadata": {},
   "outputs": [],
   "source": [
    "yeniListeOrnegi = [eleman for eleman in yeniString]"
   ]
  },
  {
   "cell_type": "code",
   "execution_count": 11,
   "id": "b56321c7",
   "metadata": {},
   "outputs": [
    {
     "data": {
      "text/plain": [
       "['s', 'u', 'm', 'e', 'y', 'y', 'e', ' ', 's', 'i', 's', 'm', 'a', 'n']"
      ]
     },
     "execution_count": 11,
     "metadata": {},
     "output_type": "execute_result"
    }
   ],
   "source": [
    "yeniListeOrnegi"
   ]
  },
  {
   "cell_type": "code",
   "execution_count": 12,
   "id": "e99b045e",
   "metadata": {},
   "outputs": [],
   "source": [
    "ikinciListeOrnegi = [numara*5 for numara in list(range(1,12))]"
   ]
  },
  {
   "cell_type": "code",
   "execution_count": 13,
   "id": "08e95546",
   "metadata": {},
   "outputs": [
    {
     "data": {
      "text/plain": [
       "[5, 10, 15, 20, 25, 30, 35, 40, 45, 50, 55]"
      ]
     },
     "execution_count": 13,
     "metadata": {},
     "output_type": "execute_result"
    }
   ],
   "source": [
    "ikinciListeOrnegi"
   ]
  },
  {
   "cell_type": "code",
   "execution_count": null,
   "id": "a14162ce",
   "metadata": {},
   "outputs": [],
   "source": []
  }
 ],
 "metadata": {
  "kernelspec": {
   "display_name": "Python 3 (ipykernel)",
   "language": "python",
   "name": "python3"
  },
  "language_info": {
   "codemirror_mode": {
    "name": "ipython",
    "version": 3
   },
   "file_extension": ".py",
   "mimetype": "text/x-python",
   "name": "python",
   "nbconvert_exporter": "python",
   "pygments_lexer": "ipython3",
   "version": "3.11.4"
  }
 },
 "nbformat": 4,
 "nbformat_minor": 5
}
