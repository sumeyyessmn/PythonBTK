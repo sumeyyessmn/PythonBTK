{
 "cells": [
  {
   "cell_type": "code",
   "execution_count": 11,
   "id": "6e2f41d8",
   "metadata": {},
   "outputs": [],
   "source": [
    "def bolmeIslemi(numara):\n",
    "    return numara/2"
   ]
  },
  {
   "cell_type": "code",
   "execution_count": 12,
   "id": "b9b35f35",
   "metadata": {},
   "outputs": [
    {
     "data": {
      "text/plain": [
       "25.0"
      ]
     },
     "execution_count": 12,
     "metadata": {},
     "output_type": "execute_result"
    }
   ],
   "source": [
    "bolmeIslemi(50)"
   ]
  },
  {
   "cell_type": "code",
   "execution_count": 5,
   "id": "1be2e1de",
   "metadata": {},
   "outputs": [],
   "source": [
    "## return kullandığımız için sadece print yapmakla kalmıyor aynı zamanda bunu bir değişkene atayabilirim."
   ]
  },
  {
   "cell_type": "code",
   "execution_count": 15,
   "id": "51f73508",
   "metadata": {},
   "outputs": [],
   "source": [
    "benimListem = [1,2,3,4,5,6,7,8,9,10]"
   ]
  },
  {
   "cell_type": "code",
   "execution_count": 17,
   "id": "e6f8c08a",
   "metadata": {},
   "outputs": [],
   "source": [
    "yeniListe = []\n",
    "for eleman in benimListem:\n",
    "    yeniListe.append(bolmeIslemi(eleman))"
   ]
  },
  {
   "cell_type": "code",
   "execution_count": 9,
   "id": "00ecaf0e",
   "metadata": {},
   "outputs": [
    {
     "data": {
      "text/plain": [
       "[0.5, 1.0, 1.5, 2.0, 2.5, 3.0, 3.5, 4.0, 4.5, 5.0]"
      ]
     },
     "execution_count": 9,
     "metadata": {},
     "output_type": "execute_result"
    }
   ],
   "source": [
    "yeniListe"
   ]
  },
  {
   "cell_type": "markdown",
   "id": "345ff20e",
   "metadata": {},
   "source": [
    "## map"
   ]
  },
  {
   "cell_type": "code",
   "execution_count": 20,
   "id": "5ace26ee",
   "metadata": {},
   "outputs": [
    {
     "data": {
      "text/plain": [
       "[0.5, 1.0, 1.5, 2.0, 2.5, 3.0, 3.5, 4.0, 4.5, 5.0]"
      ]
     },
     "execution_count": 20,
     "metadata": {},
     "output_type": "execute_result"
    }
   ],
   "source": [
    "list(map(bolmeIslemi,benimListem))"
   ]
  },
  {
   "cell_type": "code",
   "execution_count": 21,
   "id": "8a6e0625",
   "metadata": {},
   "outputs": [],
   "source": [
    "## map, bir listeyle bir fonksiyonu uyguladıktan sonra tekrar onu listeye çevirmek istediğinizde mesela oldukça ideal bir yapı \n",
    "## sunar bize."
   ]
  },
  {
   "cell_type": "code",
   "execution_count": 23,
   "id": "43b6b296",
   "metadata": {},
   "outputs": [],
   "source": [
    "def kontrolFonksiyonu(string):\n",
    "    return \"e\" in string"
   ]
  },
  {
   "cell_type": "code",
   "execution_count": 24,
   "id": "c79078a6",
   "metadata": {},
   "outputs": [
    {
     "data": {
      "text/plain": [
       "True"
      ]
     },
     "execution_count": 24,
     "metadata": {},
     "output_type": "execute_result"
    }
   ],
   "source": [
    "kontrolFonksiyonu(\"sumeyye\")"
   ]
  },
  {
   "cell_type": "code",
   "execution_count": 25,
   "id": "d9cd90fc",
   "metadata": {},
   "outputs": [
    {
     "data": {
      "text/plain": [
       "False"
      ]
     },
     "execution_count": 25,
     "metadata": {},
     "output_type": "execute_result"
    }
   ],
   "source": [
    "kontrolFonksiyonu(\"atıl\")"
   ]
  },
  {
   "cell_type": "code",
   "execution_count": 26,
   "id": "90f65c4d",
   "metadata": {},
   "outputs": [],
   "source": [
    "stringListesi =[\"aslı\",\"ali\",\"asya\",\"ayşe\",\"elif\",\"enes\",\"ebru\",\"kerime\"]"
   ]
  },
  {
   "cell_type": "code",
   "execution_count": 28,
   "id": "9a4aa39c",
   "metadata": {},
   "outputs": [],
   "source": [
    "sonucListesi = list(map(kontrolFonksiyonu,stringListesi))"
   ]
  },
  {
   "cell_type": "code",
   "execution_count": 29,
   "id": "3e438412",
   "metadata": {},
   "outputs": [
    {
     "data": {
      "text/plain": [
       "[False, False, False, True, True, True, True, True]"
      ]
     },
     "execution_count": 29,
     "metadata": {},
     "output_type": "execute_result"
    }
   ],
   "source": [
    "sonucListesi"
   ]
  },
  {
   "cell_type": "code",
   "execution_count": 30,
   "id": "58f24565",
   "metadata": {},
   "outputs": [
    {
     "data": {
      "text/plain": [
       "5"
      ]
     },
     "execution_count": 30,
     "metadata": {},
     "output_type": "execute_result"
    }
   ],
   "source": [
    "sonucListesi.count(True)"
   ]
  },
  {
   "cell_type": "markdown",
   "id": "e8d4f09e",
   "metadata": {},
   "source": [
    "## filter"
   ]
  },
  {
   "cell_type": "code",
   "execution_count": 32,
   "id": "48f770c6",
   "metadata": {},
   "outputs": [
    {
     "data": {
      "text/plain": [
       "['ayşe', 'elif', 'enes', 'ebru', 'kerime']"
      ]
     },
     "execution_count": 32,
     "metadata": {},
     "output_type": "execute_result"
    }
   ],
   "source": [
    "list(filter(kontrolFonksiyonu,stringListesi))"
   ]
  },
  {
   "cell_type": "markdown",
   "id": "5d16f864",
   "metadata": {},
   "source": [
    "## lambda"
   ]
  },
  {
   "cell_type": "code",
   "execution_count": 41,
   "id": "e9e5f367",
   "metadata": {},
   "outputs": [],
   "source": [
    "## fonksiyonları tek satırda yazmak ya da bir değişken yazmak gibi düşünebiliriz. Sonradan kullanmayacaksak kullanmak mantıklı."
   ]
  },
  {
   "cell_type": "code",
   "execution_count": 35,
   "id": "005d8207",
   "metadata": {},
   "outputs": [],
   "source": [
    "carpma = lambda numara: numara * 3"
   ]
  },
  {
   "cell_type": "code",
   "execution_count": 36,
   "id": "a2a95ae4",
   "metadata": {},
   "outputs": [
    {
     "data": {
      "text/plain": [
       "30"
      ]
     },
     "execution_count": 36,
     "metadata": {},
     "output_type": "execute_result"
    }
   ],
   "source": [
    "carpma(10)"
   ]
  },
  {
   "cell_type": "code",
   "execution_count": 37,
   "id": "ed76d7ed",
   "metadata": {},
   "outputs": [],
   "source": [
    "ornekListe = [10,20,40]"
   ]
  },
  {
   "cell_type": "code",
   "execution_count": 39,
   "id": "58d32ae1",
   "metadata": {},
   "outputs": [
    {
     "data": {
      "text/plain": [
       "[30, 60, 120]"
      ]
     },
     "execution_count": 39,
     "metadata": {},
     "output_type": "execute_result"
    }
   ],
   "source": [
    "list(map(carpma,ornekListe))"
   ]
  },
  {
   "cell_type": "code",
   "execution_count": 40,
   "id": "216f5b2a",
   "metadata": {},
   "outputs": [
    {
     "data": {
      "text/plain": [
       "[20, 40, 80]"
      ]
     },
     "execution_count": 40,
     "metadata": {},
     "output_type": "execute_result"
    }
   ],
   "source": [
    "list(map(lambda numara : numara *2,ornekListe))"
   ]
  },
  {
   "cell_type": "code",
   "execution_count": null,
   "id": "4a6dd9cf",
   "metadata": {},
   "outputs": [],
   "source": []
  }
 ],
 "metadata": {
  "kernelspec": {
   "display_name": "Python 3 (ipykernel)",
   "language": "python",
   "name": "python3"
  },
  "language_info": {
   "codemirror_mode": {
    "name": "ipython",
    "version": 3
   },
   "file_extension": ".py",
   "mimetype": "text/x-python",
   "name": "python",
   "nbconvert_exporter": "python",
   "pygments_lexer": "ipython3",
   "version": "3.11.4"
  }
 },
 "nbformat": 4,
 "nbformat_minor": 5
}
