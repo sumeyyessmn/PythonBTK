{
 "cells": [
  {
   "cell_type": "code",
   "execution_count": null,
   "id": "4c66cf35",
   "metadata": {},
   "outputs": [
    {
     "name": "stdout",
     "output_type": "stream",
     "text": [
      "Birinci sayıyı giriniz: a\n",
      "Lütfen sayıları düzgün giriniz!\n",
      "Birinci sayıyı giriniz: 10\n",
      "İkinci sayıyı giriniz: 20\n",
      "İşleminizi seçiniz: +-*/3\n",
      "Lütfen şu işlemlerden birini seçiniz: +-*/\n",
      "Birinci sayıyı giriniz: 30\n",
      "İkinci sayıyı giriniz: 20\n",
      "İşleminizi seçiniz: +-*/+\n",
      "30 + 20 = 50\n"
     ]
    }
   ],
   "source": [
    "def hesapla(a,b,islem):\n",
    "    if islem not in \"+-*/\":\n",
    "        return \"Lütfen şu işlemlerden birini seçiniz: +-*/\"\n",
    "    \n",
    "    if islem == \"+\":\n",
    "        return (str(a)+\" + \"+str(b)+\" = \"+str(a+b))\n",
    "    if islem == \"-\":\n",
    "        return (str(a)+\" - \"+str(b)+\" = \"+str(a-b))\n",
    "    if islem == \"*\":\n",
    "        return (str(a)+\" * \"+str(b)+\" = \"+str(a*b))\n",
    "    if islem == \"/\":\n",
    "        return (str(a)+\" / \"+str(b)+\" = \"+str(a/b))\n",
    "while True:\n",
    "    try:\n",
    "        a = int(input(\"Birinci sayıyı giriniz: \"))\n",
    "        b = int(input(\"İkinci sayıyı giriniz: \"))\n",
    "        islem = input(\"İşleminizi seçiniz: +-*/\")\n",
    "        print(hesapla(a,b,islem))\n",
    "    except:\n",
    "        print(\"Lütfen sayıları düzgün giriniz!\")"
   ]
  },
  {
   "cell_type": "code",
   "execution_count": null,
   "id": "a93c8239",
   "metadata": {},
   "outputs": [],
   "source": []
  }
 ],
 "metadata": {
  "kernelspec": {
   "display_name": "Python 3 (ipykernel)",
   "language": "python",
   "name": "python3"
  },
  "language_info": {
   "codemirror_mode": {
    "name": "ipython",
    "version": 3
   },
   "file_extension": ".py",
   "mimetype": "text/x-python",
   "name": "python",
   "nbconvert_exporter": "python",
   "pygments_lexer": "ipython3",
   "version": "3.11.4"
  }
 },
 "nbformat": 4,
 "nbformat_minor": 5
}
