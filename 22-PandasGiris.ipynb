{
 "cells": [
  {
   "cell_type": "code",
   "execution_count": 1,
   "id": "72eb82a3",
   "metadata": {},
   "outputs": [],
   "source": [
    "import numpy as np\n",
    "import pandas as pd"
   ]
  },
  {
   "cell_type": "markdown",
   "id": "c1e37bfa",
   "metadata": {},
   "source": [
    "## Series / Seriler"
   ]
  },
  {
   "cell_type": "code",
   "execution_count": 3,
   "id": "4275feaf",
   "metadata": {},
   "outputs": [],
   "source": [
    "## numpy dizisinin üzerine inşa edilmiş yapı # veri biliminin exceli pandas."
   ]
  },
  {
   "cell_type": "code",
   "execution_count": 4,
   "id": "9513c148",
   "metadata": {},
   "outputs": [],
   "source": [
    "benimSozlugum = {\"Sumeyye\" : 25 , \"Sare\": 22 , \"Mehmet\":24 , \"Muzaffer\":50}"
   ]
  },
  {
   "cell_type": "code",
   "execution_count": 6,
   "id": "9db6d342",
   "metadata": {},
   "outputs": [
    {
     "data": {
      "text/plain": [
       "pandas.core.series.Series"
      ]
     },
     "execution_count": 6,
     "metadata": {},
     "output_type": "execute_result"
    }
   ],
   "source": [
    "type(pd.Series(benimSozlugum))"
   ]
  },
  {
   "cell_type": "code",
   "execution_count": 7,
   "id": "0f50be7b",
   "metadata": {},
   "outputs": [],
   "source": [
    "benimYaslarim = [25,22,24,50]\n",
    "benimIsimlerim = [\"Sumeyye\",\"Sare\",\"Mehmet\",\"Muzaffer\"]"
   ]
  },
  {
   "cell_type": "code",
   "execution_count": 8,
   "id": "ca2f739b",
   "metadata": {},
   "outputs": [
    {
     "data": {
      "text/plain": [
       "0    25\n",
       "1    22\n",
       "2    24\n",
       "3    50\n",
       "dtype: int64"
      ]
     },
     "execution_count": 8,
     "metadata": {},
     "output_type": "execute_result"
    }
   ],
   "source": [
    "pd.Series(benimYaslarim)"
   ]
  },
  {
   "cell_type": "code",
   "execution_count": 9,
   "id": "0c3c49d6",
   "metadata": {},
   "outputs": [
    {
     "data": {
      "text/plain": [
       "Sumeyye     25\n",
       "Sare        22\n",
       "Mehmet      24\n",
       "Muzaffer    50\n",
       "dtype: int64"
      ]
     },
     "execution_count": 9,
     "metadata": {},
     "output_type": "execute_result"
    }
   ],
   "source": [
    "pd.Series(benimYaslarim,benimIsimlerim)"
   ]
  },
  {
   "cell_type": "code",
   "execution_count": 10,
   "id": "3f1e8800",
   "metadata": {},
   "outputs": [
    {
     "data": {
      "text/plain": [
       "Sumeyye     25\n",
       "Sare        22\n",
       "Mehmet      24\n",
       "Muzaffer    50\n",
       "dtype: int64"
      ]
     },
     "execution_count": 10,
     "metadata": {},
     "output_type": "execute_result"
    }
   ],
   "source": [
    "pd.Series(data=benimYaslarim,index=benimIsimlerim)"
   ]
  },
  {
   "cell_type": "code",
   "execution_count": 12,
   "id": "9541e591",
   "metadata": {},
   "outputs": [],
   "source": [
    "numpyDizisi = np.array([25,22,24,50])"
   ]
  },
  {
   "cell_type": "code",
   "execution_count": 13,
   "id": "f8194978",
   "metadata": {},
   "outputs": [
    {
     "data": {
      "text/plain": [
       "array([25, 22, 24, 50])"
      ]
     },
     "execution_count": 13,
     "metadata": {},
     "output_type": "execute_result"
    }
   ],
   "source": [
    "numpyDizisi"
   ]
  },
  {
   "cell_type": "code",
   "execution_count": 14,
   "id": "2c8e7616",
   "metadata": {},
   "outputs": [
    {
     "data": {
      "text/plain": [
       "0    25\n",
       "1    22\n",
       "2    24\n",
       "3    50\n",
       "dtype: int32"
      ]
     },
     "execution_count": 14,
     "metadata": {},
     "output_type": "execute_result"
    }
   ],
   "source": [
    "pd.Series(numpyDizisi)"
   ]
  },
  {
   "cell_type": "code",
   "execution_count": 15,
   "id": "7e66ec41",
   "metadata": {},
   "outputs": [
    {
     "data": {
      "text/plain": [
       "Sumeyye     25\n",
       "Sare        22\n",
       "Mehmet      24\n",
       "Muzaffer    50\n",
       "dtype: int32"
      ]
     },
     "execution_count": 15,
     "metadata": {},
     "output_type": "execute_result"
    }
   ],
   "source": [
    "pd.Series(numpyDizisi,benimIsimlerim)"
   ]
  },
  {
   "cell_type": "code",
   "execution_count": 16,
   "id": "1f3574be",
   "metadata": {},
   "outputs": [
    {
     "data": {
      "text/plain": [
       "1    Nalan\n",
       "2     Emir\n",
       "3    Demet\n",
       "dtype: object"
      ]
     },
     "execution_count": 16,
     "metadata": {},
     "output_type": "execute_result"
    }
   ],
   "source": [
    "pd.Series([\"Nalan\",\"Emir\",\"Demet\"],[1,2,3])"
   ]
  },
  {
   "cell_type": "code",
   "execution_count": 17,
   "id": "1252b235",
   "metadata": {},
   "outputs": [],
   "source": [
    "yarismaSonucu1 = pd.Series([10,5,1],[\"Nalan\",\"Emir\",\"Demet\"])"
   ]
  },
  {
   "cell_type": "code",
   "execution_count": 18,
   "id": "ce7188b2",
   "metadata": {},
   "outputs": [
    {
     "data": {
      "text/plain": [
       "Nalan    10\n",
       "Emir      5\n",
       "Demet     1\n",
       "dtype: int64"
      ]
     },
     "execution_count": 18,
     "metadata": {},
     "output_type": "execute_result"
    }
   ],
   "source": [
    "yarismaSonucu1"
   ]
  },
  {
   "cell_type": "code",
   "execution_count": 19,
   "id": "0853bdc3",
   "metadata": {},
   "outputs": [],
   "source": [
    "yarismaSonucu2 = pd.Series([20,10,8],[\"Nalan\",\"Emir\",\"Demet\"])"
   ]
  },
  {
   "cell_type": "code",
   "execution_count": 20,
   "id": "f5daeb4f",
   "metadata": {},
   "outputs": [
    {
     "data": {
      "text/plain": [
       "Nalan    20\n",
       "Emir     10\n",
       "Demet     8\n",
       "dtype: int64"
      ]
     },
     "execution_count": 20,
     "metadata": {},
     "output_type": "execute_result"
    }
   ],
   "source": [
    "yarismaSonucu2"
   ]
  },
  {
   "cell_type": "code",
   "execution_count": 23,
   "id": "05867e5d",
   "metadata": {},
   "outputs": [
    {
     "data": {
      "text/plain": [
       "10"
      ]
     },
     "execution_count": 23,
     "metadata": {},
     "output_type": "execute_result"
    }
   ],
   "source": [
    "yarismaSonucu2[\"Emir\"] #index \"Emir\""
   ]
  },
  {
   "cell_type": "code",
   "execution_count": 24,
   "id": "e7ae3bce",
   "metadata": {},
   "outputs": [],
   "source": [
    "sonSonuc = yarismaSonucu1 + yarismaSonucu2"
   ]
  },
  {
   "cell_type": "code",
   "execution_count": 25,
   "id": "b8889512",
   "metadata": {},
   "outputs": [
    {
     "data": {
      "text/plain": [
       "Nalan    30\n",
       "Emir     15\n",
       "Demet     9\n",
       "dtype: int64"
      ]
     },
     "execution_count": 25,
     "metadata": {},
     "output_type": "execute_result"
    }
   ],
   "source": [
    "sonSonuc"
   ]
  },
  {
   "cell_type": "code",
   "execution_count": 26,
   "id": "018dbd2f",
   "metadata": {},
   "outputs": [],
   "source": [
    "farkliSeries = pd.Series([20,30,40,50],[\"a\",\"b\",\"c\",\"d\"])"
   ]
  },
  {
   "cell_type": "code",
   "execution_count": 27,
   "id": "d4b3bd4e",
   "metadata": {},
   "outputs": [],
   "source": [
    "farkliSeries2 = pd.Series([10,5,3,1],[\"a\",\"c\",\"f\",\"g\"])"
   ]
  },
  {
   "cell_type": "code",
   "execution_count": 29,
   "id": "92391b7e",
   "metadata": {},
   "outputs": [
    {
     "data": {
      "text/plain": [
       "a    30.0\n",
       "b     NaN\n",
       "c    45.0\n",
       "d     NaN\n",
       "f     NaN\n",
       "g     NaN\n",
       "dtype: float64"
      ]
     },
     "execution_count": 29,
     "metadata": {},
     "output_type": "execute_result"
    }
   ],
   "source": [
    "farkliSeries + farkliSeries2 #kesişenleri topluyor"
   ]
  },
  {
   "cell_type": "code",
   "execution_count": 30,
   "id": "e60520eb",
   "metadata": {},
   "outputs": [],
   "source": [
    "## dataframe serilerin birleştirilmiş hali."
   ]
  },
  {
   "cell_type": "code",
   "execution_count": null,
   "id": "d2a6e588",
   "metadata": {},
   "outputs": [],
   "source": []
  }
 ],
 "metadata": {
  "kernelspec": {
   "display_name": "Python 3 (ipykernel)",
   "language": "python",
   "name": "python3"
  },
  "language_info": {
   "codemirror_mode": {
    "name": "ipython",
    "version": 3
   },
   "file_extension": ".py",
   "mimetype": "text/x-python",
   "name": "python",
   "nbconvert_exporter": "python",
   "pygments_lexer": "ipython3",
   "version": "3.11.4"
  }
 },
 "nbformat": 4,
 "nbformat_minor": 5
}
